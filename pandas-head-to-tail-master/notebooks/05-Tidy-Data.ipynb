{
 "cells": [
  {
   "cell_type": "markdown",
   "metadata": {},
   "source": [
    "# Tidy Data"
   ]
  },
  {
   "cell_type": "markdown",
   "metadata": {},
   "source": [
    "---\n",
    "\n",
    "> Structuring datasets to facilitate analysis [(Wickham 2014)](http://www.jstatsoft.org/v59/i10/paper)"
   ]
  },
  {
   "cell_type": "markdown",
   "metadata": {},
   "source": [
    "Tidy Data (and the closely related topic of reshaping data) is a way of structuring your data and APIs in a consistent (sensible) way to make the data analysis process flow more smoothly."
   ]
  },
  {
   "cell_type": "markdown",
   "metadata": {},
   "source": [
    "## The Rules\n",
    "\n",
    "In a tidy dataset...\n",
    "\n",
    "1. Each variable forms a column\n",
    "2. Each observation forms a row"
   ]
  },
  {
   "cell_type": "code",
   "execution_count": 1,
   "metadata": {
    "collapsed": true
   },
   "outputs": [],
   "source": [
    "import numpy as np\n",
    "import pandas as pd\n",
    "import seaborn as sns\n",
    "import matplotlib.pyplot as plt\n",
    "\n",
    "sns.set(style=\"ticks\", context=\"talk\")\n",
    "plt.rcParams['figure.figsize'] = 12, 8\n",
    "pd.options.display.max_rows = 10\n",
    "%matplotlib inline"
   ]
  },
  {
   "cell_type": "markdown",
   "metadata": {},
   "source": [
    "## NBA Games\n",
    "\n",
    "Earlier, I fetched some data\n",
    "\n",
    "```python\n",
    "tables = pd.read_html(\n",
    "  \"http://www.basketball-reference.com/leagues/\"\n",
    "  \"NBA_2016_games.html\"\n",
    ")\n",
    "games = tables[0]\n",
    "games.to_csv('data/games.csv', index=False)\n",
    "```"
   ]
  },
  {
   "cell_type": "code",
   "execution_count": 2,
   "metadata": {},
   "outputs": [
    {
     "name": "stdout",
     "output_type": "stream",
     "text": [
      "Date,Start (ET),Unnamed: 2,Visitor/Neutral,PTS,Home/Neutral,PTS.1,Unnamed: 7,Notes\r\n",
      "October,,,,,,,,\r\n",
      "\"Tue, Oct 27, 2015\",8:00 pm,Box Score,Detroit Pistons,106.0,Atlanta Hawks,94.0,,\r\n",
      "\"Tue, Oct 27, 2015\",8:00 pm,Box Score,Cleveland Cavaliers,95.0,Chicago Bulls,97.0,,\r\n",
      "\"Tue, Oct 27, 2015\",10:30 pm,Box Score,New Orleans Pelicans,95.0,Golden State Warriors,111.0,,\r\n"
     ]
    }
   ],
   "source": [
    "!head -n  5 data/games.csv"
   ]
  },
  {
   "cell_type": "markdown",
   "metadata": {},
   "source": [
    "So the data is roughly like\n",
    "\n",
    "| Date        | Visitor Team | Visitor Points | Home Team | Home Points |\n",
    "| ----------- | ------------ | -------------- | --------- | ----------- |\n",
    "| 2015-10-07  | Detroit      | 106            | Atlanta   | 94          |\n",
    "| ...         | ...          | ...            | ...       | ...         |\n",
    "\n",
    "Plus some extra junk we don't really care about."
   ]
  },
  {
   "cell_type": "markdown",
   "metadata": {},
   "source": [
    "## [The Question](http://stackoverflow.com/questions/22695680/python-pandas-timedelta-specific-rows):\n",
    "\n",
    "> **How many days of rest did each team get between each game?**"
   ]
  },
  {
   "cell_type": "markdown",
   "metadata": {},
   "source": [
    "Whether or not your dataset is tidy depends on your question. Given our question, Is our data tidy? What is an observation?\n",
    "\n",
    "\n",
    "<a href=\"#answer\" class=\"btn btn-default\" data-toggle=\"collapse\">Show Answer</a>\n",
    "<div id=\"answer\" class=\"collapse\">\n",
    "An observation is a (team, game) pair. So no, we don't have a tidy dataset.\n",
    "A tidy dataset would be like\n",
    "\n",
    "<table>\n",
    "<thead>\n",
    "<tr class=\"header\">\n",
    "<th>Date</th>\n",
    "<th>Team</th>\n",
    "<th>Home / Away</th>\n",
    "<th>Points</th>\n",
    "</tr>\n",
    "</thead>\n",
    "<tbody>\n",
    "<tr class=\"odd\">\n",
    "<td>2015-10-07</td>\n",
    "<td>Detroit</td>\n",
    "<td>Away</td>\n",
    "<td>106</td>\n",
    "</tr>\n",
    "<tr class=\"even\">\n",
    "<td>2015-10-07</td>\n",
    "<td>Atlanta</td>\n",
    "<td>Home</td>\n",
    "<td>94</td>\n",
    "</tr>\n",
    "<tr class=\"odd\">\n",
    "<td>...</td>\n",
    "<td>...</td>\n",
    "<td>...</td>\n",
    "<td>...</td>\n",
    "</tr>\n",
    "</tbody>\n",
    "</table>\n",
    "\n",
    "</div>"
   ]
  },
  {
   "cell_type": "markdown",
   "metadata": {},
   "source": [
    "Let's do a bit of general cleaning to remove that extra junk before reshaping the data to be tidy."
   ]
  },
  {
   "cell_type": "code",
   "execution_count": 3,
   "metadata": {},
   "outputs": [
    {
     "data": {
      "text/html": [
       "<div>\n",
       "<style>\n",
       "    .dataframe thead tr:only-child th {\n",
       "        text-align: right;\n",
       "    }\n",
       "\n",
       "    .dataframe thead th {\n",
       "        text-align: left;\n",
       "    }\n",
       "\n",
       "    .dataframe tbody tr th {\n",
       "        vertical-align: top;\n",
       "    }\n",
       "</style>\n",
       "<table border=\"1\" class=\"dataframe\">\n",
       "  <thead>\n",
       "    <tr style=\"text-align: right;\">\n",
       "      <th></th>\n",
       "      <th></th>\n",
       "      <th>away_team</th>\n",
       "      <th>away_points</th>\n",
       "      <th>home_team</th>\n",
       "      <th>home_points</th>\n",
       "    </tr>\n",
       "    <tr>\n",
       "      <th>game_id</th>\n",
       "      <th>date</th>\n",
       "      <th></th>\n",
       "      <th></th>\n",
       "      <th></th>\n",
       "      <th></th>\n",
       "    </tr>\n",
       "  </thead>\n",
       "  <tbody>\n",
       "    <tr>\n",
       "      <th>1</th>\n",
       "      <th>2015-10-27</th>\n",
       "      <td>Detroit Pistons</td>\n",
       "      <td>106.0</td>\n",
       "      <td>Atlanta Hawks</td>\n",
       "      <td>94.0</td>\n",
       "    </tr>\n",
       "    <tr>\n",
       "      <th>2</th>\n",
       "      <th>2015-10-27</th>\n",
       "      <td>Cleveland Cavaliers</td>\n",
       "      <td>95.0</td>\n",
       "      <td>Chicago Bulls</td>\n",
       "      <td>97.0</td>\n",
       "    </tr>\n",
       "    <tr>\n",
       "      <th>3</th>\n",
       "      <th>2015-10-27</th>\n",
       "      <td>New Orleans Pelicans</td>\n",
       "      <td>95.0</td>\n",
       "      <td>Golden State Warriors</td>\n",
       "      <td>111.0</td>\n",
       "    </tr>\n",
       "    <tr>\n",
       "      <th>4</th>\n",
       "      <th>2015-10-28</th>\n",
       "      <td>Philadelphia 76ers</td>\n",
       "      <td>95.0</td>\n",
       "      <td>Boston Celtics</td>\n",
       "      <td>112.0</td>\n",
       "    </tr>\n",
       "    <tr>\n",
       "      <th>5</th>\n",
       "      <th>2015-10-28</th>\n",
       "      <td>Chicago Bulls</td>\n",
       "      <td>115.0</td>\n",
       "      <td>Brooklyn Nets</td>\n",
       "      <td>100.0</td>\n",
       "    </tr>\n",
       "  </tbody>\n",
       "</table>\n",
       "</div>"
      ],
      "text/plain": [
       "                               away_team  away_points              home_team  \\\n",
       "game_id date                                                                   \n",
       "1       2015-10-27       Detroit Pistons        106.0          Atlanta Hawks   \n",
       "2       2015-10-27   Cleveland Cavaliers         95.0          Chicago Bulls   \n",
       "3       2015-10-27  New Orleans Pelicans         95.0  Golden State Warriors   \n",
       "4       2015-10-28    Philadelphia 76ers         95.0         Boston Celtics   \n",
       "5       2015-10-28         Chicago Bulls        115.0          Brooklyn Nets   \n",
       "\n",
       "                    home_points  \n",
       "game_id date                     \n",
       "1       2015-10-27         94.0  \n",
       "2       2015-10-27         97.0  \n",
       "3       2015-10-27        111.0  \n",
       "4       2015-10-28        112.0  \n",
       "5       2015-10-28        100.0  "
      ]
     },
     "execution_count": 3,
     "metadata": {},
     "output_type": "execute_result"
    }
   ],
   "source": [
    "column_names = {'Date': 'date', 'Start (ET)': 'start',\n",
    "                'Unamed: 2': 'box', 'Visitor/Neutral': 'away_team', \n",
    "                'PTS': 'away_points', 'Home/Neutral': 'home_team',\n",
    "                'PTS.1': 'home_points', 'Unamed: 7': 'n_ot'}\n",
    "\n",
    "games = (\n",
    "    pd.read_csv(\"data/games.csv\")\n",
    "      .rename(columns=column_names)\n",
    "      .dropna(thresh=4)\n",
    "      [['date', 'away_team', 'away_points', 'home_team', 'home_points']]\n",
    "      .assign(date=lambda x: pd.to_datetime(x['date'], format='%a, %b %d, %Y'))\n",
    "      .set_index('date', append=True)\n",
    "      .rename_axis([\"game_id\", \"date\"])\n",
    "      .sort_index()\n",
    ")\n",
    "games.head()"
   ]
  },
  {
   "cell_type": "markdown",
   "metadata": {},
   "source": [
    "Above, we saw that we need to collapse the away / home teams down to two columns: one identifier and one for the value.\n",
    "Likewise with the points.\n",
    "We'll also need to repeat the metadata fields, like the date and `game_id`, so that each observation is matched with the correct date.\n",
    "`pd.melt` does all this for us."
   ]
  },
  {
   "cell_type": "markdown",
   "metadata": {},
   "source": [
    "## Melt\n",
    "\n",
    "![melt](figures/melt.png)\n",
    "\n",
    "- Collect a variable spread across multiple columns into one, but\n",
    "- Repeat the metadata to stay with each observation"
   ]
  },
  {
   "cell_type": "code",
   "execution_count": 4,
   "metadata": {},
   "outputs": [
    {
     "data": {
      "text/html": [
       "<div>\n",
       "<style>\n",
       "    .dataframe thead tr:only-child th {\n",
       "        text-align: right;\n",
       "    }\n",
       "\n",
       "    .dataframe thead th {\n",
       "        text-align: left;\n",
       "    }\n",
       "\n",
       "    .dataframe tbody tr th {\n",
       "        vertical-align: top;\n",
       "    }\n",
       "</style>\n",
       "<table border=\"1\" class=\"dataframe\">\n",
       "  <thead>\n",
       "    <tr style=\"text-align: right;\">\n",
       "      <th></th>\n",
       "      <th>game_id</th>\n",
       "      <th>date</th>\n",
       "      <th>home_away</th>\n",
       "      <th>team</th>\n",
       "    </tr>\n",
       "  </thead>\n",
       "  <tbody>\n",
       "    <tr>\n",
       "      <th>0</th>\n",
       "      <td>1</td>\n",
       "      <td>2015-10-27</td>\n",
       "      <td>away_team</td>\n",
       "      <td>Detroit Pistons</td>\n",
       "    </tr>\n",
       "    <tr>\n",
       "      <th>1230</th>\n",
       "      <td>1</td>\n",
       "      <td>2015-10-27</td>\n",
       "      <td>home_team</td>\n",
       "      <td>Atlanta Hawks</td>\n",
       "    </tr>\n",
       "    <tr>\n",
       "      <th>1</th>\n",
       "      <td>2</td>\n",
       "      <td>2015-10-27</td>\n",
       "      <td>away_team</td>\n",
       "      <td>Cleveland Cavaliers</td>\n",
       "    </tr>\n",
       "    <tr>\n",
       "      <th>1231</th>\n",
       "      <td>2</td>\n",
       "      <td>2015-10-27</td>\n",
       "      <td>home_team</td>\n",
       "      <td>Chicago Bulls</td>\n",
       "    </tr>\n",
       "    <tr>\n",
       "      <th>2</th>\n",
       "      <td>3</td>\n",
       "      <td>2015-10-27</td>\n",
       "      <td>away_team</td>\n",
       "      <td>New Orleans Pelicans</td>\n",
       "    </tr>\n",
       "  </tbody>\n",
       "</table>\n",
       "</div>"
      ],
      "text/plain": [
       "      game_id       date  home_away                  team\n",
       "0           1 2015-10-27  away_team       Detroit Pistons\n",
       "1230        1 2015-10-27  home_team         Atlanta Hawks\n",
       "1           2 2015-10-27  away_team   Cleveland Cavaliers\n",
       "1231        2 2015-10-27  home_team         Chicago Bulls\n",
       "2           3 2015-10-27  away_team  New Orleans Pelicans"
      ]
     },
     "execution_count": 4,
     "metadata": {},
     "output_type": "execute_result"
    }
   ],
   "source": [
    "tidy = pd.melt(games.reset_index(),\n",
    "               id_vars=['game_id', 'date'], value_vars=['away_team', 'home_team'],\n",
    "               value_name='team', var_name='home_away').sort_values(['game_id', 'date'])\n",
    "\n",
    "tidy.head()"
   ]
  },
  {
   "cell_type": "markdown",
   "metadata": {},
   "source": [
    "Now the translation from question to operation is direct:"
   ]
  },
  {
   "cell_type": "code",
   "execution_count": 5,
   "metadata": {},
   "outputs": [
    {
     "data": {
      "text/plain": [
       "0       NaN\n",
       "1230    NaN\n",
       "1       NaN\n",
       "1231    NaN\n",
       "2       NaN\n",
       "       ... \n",
       "2457    1.0\n",
       "1228    2.0\n",
       "2458    3.0\n",
       "1229    1.0\n",
       "2459    1.0\n",
       "Name: date, Length: 2460, dtype: float64"
      ]
     },
     "execution_count": 5,
     "metadata": {},
     "output_type": "execute_result"
    }
   ],
   "source": [
    "# How many days of rest for each team?\n",
    "# For each team...  get number of days between games\n",
    "tidy.groupby('team').date.diff().dt.days - 1"
   ]
  },
  {
   "cell_type": "markdown",
   "metadata": {},
   "source": [
    "We haven't seen `.diff` yet. It takes the value in the current row minus the value in the previous. Since `.date` is a `datetime`, the result is a `timedelta`. Timedeltas have that special `.dt` namespace for accessing properties of each timedelta, like the number of days."
   ]
  },
  {
   "cell_type": "code",
   "execution_count": 6,
   "metadata": {},
   "outputs": [
    {
     "data": {
      "text/html": [
       "<div>\n",
       "<style>\n",
       "    .dataframe thead tr:only-child th {\n",
       "        text-align: right;\n",
       "    }\n",
       "\n",
       "    .dataframe thead th {\n",
       "        text-align: left;\n",
       "    }\n",
       "\n",
       "    .dataframe tbody tr th {\n",
       "        vertical-align: top;\n",
       "    }\n",
       "</style>\n",
       "<table border=\"1\" class=\"dataframe\">\n",
       "  <thead>\n",
       "    <tr style=\"text-align: right;\">\n",
       "      <th></th>\n",
       "      <th>game_id</th>\n",
       "      <th>date</th>\n",
       "      <th>home_away</th>\n",
       "      <th>team</th>\n",
       "      <th>rest</th>\n",
       "    </tr>\n",
       "  </thead>\n",
       "  <tbody>\n",
       "    <tr>\n",
       "      <th>4</th>\n",
       "      <td>5</td>\n",
       "      <td>2015-10-28</td>\n",
       "      <td>away_team</td>\n",
       "      <td>Chicago Bulls</td>\n",
       "      <td>0.0</td>\n",
       "    </tr>\n",
       "    <tr>\n",
       "      <th>1235</th>\n",
       "      <td>6</td>\n",
       "      <td>2015-10-28</td>\n",
       "      <td>home_team</td>\n",
       "      <td>Detroit Pistons</td>\n",
       "      <td>0.0</td>\n",
       "    </tr>\n",
       "    <tr>\n",
       "      <th>8</th>\n",
       "      <td>9</td>\n",
       "      <td>2015-10-28</td>\n",
       "      <td>away_team</td>\n",
       "      <td>Cleveland Cavaliers</td>\n",
       "      <td>0.0</td>\n",
       "    </tr>\n",
       "    <tr>\n",
       "      <th>14</th>\n",
       "      <td>15</td>\n",
       "      <td>2015-10-28</td>\n",
       "      <td>away_team</td>\n",
       "      <td>New Orleans Pelicans</td>\n",
       "      <td>0.0</td>\n",
       "    </tr>\n",
       "    <tr>\n",
       "      <th>17</th>\n",
       "      <td>18</td>\n",
       "      <td>2015-10-29</td>\n",
       "      <td>away_team</td>\n",
       "      <td>Memphis Grizzlies</td>\n",
       "      <td>0.0</td>\n",
       "    </tr>\n",
       "  </tbody>\n",
       "</table>\n",
       "</div>"
      ],
      "text/plain": [
       "      game_id       date  home_away                  team  rest\n",
       "4           5 2015-10-28  away_team         Chicago Bulls   0.0\n",
       "1235        6 2015-10-28  home_team       Detroit Pistons   0.0\n",
       "8           9 2015-10-28  away_team   Cleveland Cavaliers   0.0\n",
       "14         15 2015-10-28  away_team  New Orleans Pelicans   0.0\n",
       "17         18 2015-10-29  away_team     Memphis Grizzlies   0.0"
      ]
     },
     "execution_count": 6,
     "metadata": {},
     "output_type": "execute_result"
    }
   ],
   "source": [
    "# Assign tidy['rest']\n",
    "tidy['rest'] = tidy.groupby('team').date.diff().dt.days - 1\n",
    "tidy.dropna().head()"
   ]
  },
  {
   "cell_type": "markdown",
   "metadata": {},
   "source": [
    "## `pivot_table`\n",
    "\n",
    "You can \"invert\" a `melt` with `pd.pivot_table`"
   ]
  },
  {
   "cell_type": "code",
   "execution_count": 7,
   "metadata": {},
   "outputs": [
    {
     "data": {
      "text/html": [
       "<div>\n",
       "<style>\n",
       "    .dataframe thead tr:only-child th {\n",
       "        text-align: right;\n",
       "    }\n",
       "\n",
       "    .dataframe thead th {\n",
       "        text-align: left;\n",
       "    }\n",
       "\n",
       "    .dataframe tbody tr th {\n",
       "        vertical-align: top;\n",
       "    }\n",
       "</style>\n",
       "<table border=\"1\" class=\"dataframe\">\n",
       "  <thead>\n",
       "    <tr style=\"text-align: right;\">\n",
       "      <th></th>\n",
       "      <th></th>\n",
       "      <th>away_rest</th>\n",
       "      <th>home_rest</th>\n",
       "    </tr>\n",
       "    <tr>\n",
       "      <th>game_id</th>\n",
       "      <th>date</th>\n",
       "      <th></th>\n",
       "      <th></th>\n",
       "    </tr>\n",
       "  </thead>\n",
       "  <tbody>\n",
       "    <tr>\n",
       "      <th>18</th>\n",
       "      <th>2015-10-29</th>\n",
       "      <td>0.0</td>\n",
       "      <td>0.0</td>\n",
       "    </tr>\n",
       "    <tr>\n",
       "      <th>19</th>\n",
       "      <th>2015-10-29</th>\n",
       "      <td>0.0</td>\n",
       "      <td>0.0</td>\n",
       "    </tr>\n",
       "    <tr>\n",
       "      <th>20</th>\n",
       "      <th>2015-10-29</th>\n",
       "      <td>1.0</td>\n",
       "      <td>0.0</td>\n",
       "    </tr>\n",
       "    <tr>\n",
       "      <th>21</th>\n",
       "      <th>2015-10-30</th>\n",
       "      <td>1.0</td>\n",
       "      <td>0.0</td>\n",
       "    </tr>\n",
       "    <tr>\n",
       "      <th>22</th>\n",
       "      <th>2015-10-30</th>\n",
       "      <td>1.0</td>\n",
       "      <td>1.0</td>\n",
       "    </tr>\n",
       "  </tbody>\n",
       "</table>\n",
       "</div>"
      ],
      "text/plain": [
       "                    away_rest  home_rest\n",
       "game_id date                            \n",
       "18      2015-10-29        0.0        0.0\n",
       "19      2015-10-29        0.0        0.0\n",
       "20      2015-10-29        1.0        0.0\n",
       "21      2015-10-30        1.0        0.0\n",
       "22      2015-10-30        1.0        1.0"
      ]
     },
     "execution_count": 7,
     "metadata": {},
     "output_type": "execute_result"
    }
   ],
   "source": [
    "by_game = (pd.pivot_table(tidy, values='rest',\n",
    "                          index=['game_id', 'date'],\n",
    "                          columns='home_away')\n",
    "             .rename(columns={'away_team': 'away_rest',\n",
    "                              'home_team': 'home_rest'})\n",
    "             .rename_axis(None, axis='columns'))\n",
    "by_game.dropna().head()"
   ]
  },
  {
   "cell_type": "markdown",
   "metadata": {},
   "source": [
    "`concat` will merge the two dataframes (`games, by_game`), expanding an `axis`, while aligning on the other axis."
   ]
  },
  {
   "cell_type": "code",
   "execution_count": 8,
   "metadata": {},
   "outputs": [
    {
     "data": {
      "text/html": [
       "<div>\n",
       "<style>\n",
       "    .dataframe thead tr:only-child th {\n",
       "        text-align: right;\n",
       "    }\n",
       "\n",
       "    .dataframe thead th {\n",
       "        text-align: left;\n",
       "    }\n",
       "\n",
       "    .dataframe tbody tr th {\n",
       "        vertical-align: top;\n",
       "    }\n",
       "</style>\n",
       "<table border=\"1\" class=\"dataframe\">\n",
       "  <thead>\n",
       "    <tr style=\"text-align: right;\">\n",
       "      <th></th>\n",
       "      <th></th>\n",
       "      <th>away_team</th>\n",
       "      <th>away_points</th>\n",
       "      <th>home_team</th>\n",
       "      <th>home_points</th>\n",
       "      <th>away_rest</th>\n",
       "      <th>home_rest</th>\n",
       "    </tr>\n",
       "    <tr>\n",
       "      <th>game_id</th>\n",
       "      <th>date</th>\n",
       "      <th></th>\n",
       "      <th></th>\n",
       "      <th></th>\n",
       "      <th></th>\n",
       "      <th></th>\n",
       "      <th></th>\n",
       "    </tr>\n",
       "  </thead>\n",
       "  <tbody>\n",
       "    <tr>\n",
       "      <th>18</th>\n",
       "      <th>2015-10-29</th>\n",
       "      <td>Memphis Grizzlies</td>\n",
       "      <td>112.0</td>\n",
       "      <td>Indiana Pacers</td>\n",
       "      <td>103.0</td>\n",
       "      <td>0.0</td>\n",
       "      <td>0.0</td>\n",
       "    </tr>\n",
       "    <tr>\n",
       "      <th>19</th>\n",
       "      <th>2015-10-29</th>\n",
       "      <td>Dallas Mavericks</td>\n",
       "      <td>88.0</td>\n",
       "      <td>Los Angeles Clippers</td>\n",
       "      <td>104.0</td>\n",
       "      <td>0.0</td>\n",
       "      <td>0.0</td>\n",
       "    </tr>\n",
       "    <tr>\n",
       "      <th>20</th>\n",
       "      <th>2015-10-29</th>\n",
       "      <td>Atlanta Hawks</td>\n",
       "      <td>112.0</td>\n",
       "      <td>New York Knicks</td>\n",
       "      <td>101.0</td>\n",
       "      <td>1.0</td>\n",
       "      <td>0.0</td>\n",
       "    </tr>\n",
       "    <tr>\n",
       "      <th>21</th>\n",
       "      <th>2015-10-30</th>\n",
       "      <td>Charlotte Hornets</td>\n",
       "      <td>94.0</td>\n",
       "      <td>Atlanta Hawks</td>\n",
       "      <td>97.0</td>\n",
       "      <td>1.0</td>\n",
       "      <td>0.0</td>\n",
       "    </tr>\n",
       "    <tr>\n",
       "      <th>22</th>\n",
       "      <th>2015-10-30</th>\n",
       "      <td>Toronto Raptors</td>\n",
       "      <td>113.0</td>\n",
       "      <td>Boston Celtics</td>\n",
       "      <td>103.0</td>\n",
       "      <td>1.0</td>\n",
       "      <td>1.0</td>\n",
       "    </tr>\n",
       "  </tbody>\n",
       "</table>\n",
       "</div>"
      ],
      "text/plain": [
       "                            away_team  away_points             home_team  \\\n",
       "game_id date                                                               \n",
       "18      2015-10-29  Memphis Grizzlies        112.0        Indiana Pacers   \n",
       "19      2015-10-29   Dallas Mavericks         88.0  Los Angeles Clippers   \n",
       "20      2015-10-29      Atlanta Hawks        112.0       New York Knicks   \n",
       "21      2015-10-30  Charlotte Hornets         94.0         Atlanta Hawks   \n",
       "22      2015-10-30    Toronto Raptors        113.0        Boston Celtics   \n",
       "\n",
       "                    home_points  away_rest  home_rest  \n",
       "game_id date                                           \n",
       "18      2015-10-29        103.0        0.0        0.0  \n",
       "19      2015-10-29        104.0        0.0        0.0  \n",
       "20      2015-10-29        101.0        1.0        0.0  \n",
       "21      2015-10-30         97.0        1.0        0.0  \n",
       "22      2015-10-30        103.0        1.0        1.0  "
      ]
     },
     "execution_count": 8,
     "metadata": {},
     "output_type": "execute_result"
    }
   ],
   "source": [
    "df = pd.concat([games, by_game], axis='columns')\n",
    "df.dropna().head()"
   ]
  },
  {
   "cell_type": "markdown",
   "metadata": {},
   "source": [
    "## Two datasets\n",
    "\n",
    "- `tidy`: For team-level questions\n",
    "- `df`: For game-level questions"
   ]
  },
  {
   "cell_type": "markdown",
   "metadata": {},
   "source": [
    "Even though I called one of the variables `tidy`, both datasets are tidy in their own way, it just depends on the question your trying to answer.\n",
    "\n",
    "For example, let's say we wanted to look at the rest durations, split by home/away, faceted by team. We'd use `tidy` for that since it's a team-level question. We'll facet by `team` (wrapping the columns so it doesn't get too wide. And `map` a barplot with `x=variable` and `y=rest`."
   ]
  },
  {
   "cell_type": "code",
   "execution_count": 9,
   "metadata": {
    "scrolled": false
   },
   "outputs": [
    {
     "data": {
      "image/png": "[encoded data removed]",
      "text/plain": [
       "<matplotlib.figure.Figure at 0x10f507e10>"
      ]
     },
     "metadata": {},
     "output_type": "display_data"
    }
   ],
   "source": [
    "g = sns.FacetGrid(tidy, col=\"team\", col_wrap=5, hue=\"team\")\n",
    "g.map(sns.barplot, \"home_away\", \"rest\");"
   ]
  },
  {
   "cell_type": "markdown",
   "metadata": {},
   "source": [
    "If we wanted to look at the distribution of the *differences* in rest, we'd use `df` since the difference is a game-level statistic."
   ]
  },
  {
   "cell_type": "code",
   "execution_count": 10,
   "metadata": {},
   "outputs": [
    {
     "data": {
      "image/png": "[encoded data removed]",
      "text/plain": [
       "<matplotlib.figure.Figure at 0x11297b048>"
      ]
     },
     "metadata": {},
     "output_type": "display_data"
    }
   ],
   "source": [
    "delta = (df['home_rest'] - df['away_rest']).dropna().astype(int)\n",
    "(delta.value_counts()\n",
    "    .reindex(np.arange(delta.min(), delta.max() + 1), fill_value=0)\n",
    "    .sort_index().plot(kind='bar', color='k', width=.9, rot=0, figsize=(12, 6)))\n",
    "sns.despine()\n",
    "plt.xlabel(\"Difference in Rest (home - away)\")\n",
    "plt.grid(axis='y');"
   ]
  },
  {
   "cell_type": "markdown",
   "metadata": {},
   "source": [
    "<div class=\"alert alert-success\" data-title=\"Win Percent\">\n",
    "  <h1><i class=\"fa fa-tasks\" aria-hidden=\"true\"></i> Exercise: Win Percent</h1>\n",
    "</div>\n",
    "\n",
    "<p>Find the win-percent for each team, by whether they're home or away.</p>"
   ]
  },
  {
   "cell_type": "markdown",
   "metadata": {},
   "source": [
    "Hints:\n",
    "\n",
    "- You'll need a new variable in `df` called `winning_team` (use `np.where`?). That should have the name of the winning team\n",
    "- You'll need to `melt` that along with the home / away columns (which column is `id_vars`? Which columns are `value_vars`?)\n",
    "- A tidy dataset looks like\n",
    "\n",
    "<table border=\"1\" class=\"dataframe\">\n",
    "  <thead>\n",
    "    <tr style=\"text-align: right;\">\n",
    "      <th></th>\n",
    "      <th>winning_team</th>\n",
    "      <th>home_or_away</th>\n",
    "      <th>team</th>\n",
    "      <th>won</th>\n",
    "    </tr>\n",
    "  </thead>\n",
    "  <tbody>\n",
    "    <tr>\n",
    "      <th>0</th>\n",
    "      <td>Detroit Pistons</td>\n",
    "      <td>away_team</td>\n",
    "      <td>Detroit Pistons</td>\n",
    "      <td>True</td>\n",
    "    </tr>\n",
    "    <tr>\n",
    "      <th>1</th>\n",
    "      <td>Chicago Bulls</td>\n",
    "      <td>away_team</td>\n",
    "      <td>Cleveland Cavaliers</td>\n",
    "      <td>False</td>\n",
    "    </tr>\n",
    "    <tr>\n",
    "      <th>2</th>\n",
    "      <td>Golden State Warriors</td>\n",
    "      <td>away_team</td>\n",
    "      <td>New Orleans Pelicans</td>\n",
    "      <td>False</td>\n",
    "    </tr>\n",
    "    <tr>\n",
    "      <th>3</th>\n",
    "      <td>Boston Celtics</td>\n",
    "      <td>away_team</td>\n",
    "      <td>Philadelphia 76ers</td>\n",
    "      <td>False</td>\n",
    "    </tr>\n",
    "    <tr>\n",
    "      <th>4</th>\n",
    "      <td>Chicago Bulls</td>\n",
    "      <td>away_team</td>\n",
    "      <td>Chicago Bulls</td>\n",
    "      <td>True</td>\n",
    "    </tr>\n",
    "  </tbody>\n",
    "</table>\n",
    "\n",
    "- With the tidy dataset we can `groupby` and take the mean. Teams play the same number of home and away games, so a simple (un-weighted) average will work."
   ]
  },
  {
   "cell_type": "code",
   "execution_count": null,
   "metadata": {
    "collapsed": true
   },
   "outputs": [],
   "source": []
  },
  {
   "cell_type": "code",
   "execution_count": 12,
   "metadata": {},
   "outputs": [
    {
     "data": {
      "text/plain": [
       "team            home_or_away\n",
       "Atlanta Hawks   away_team       0.512195\n",
       "                home_team       0.658537\n",
       "Boston Celtics  away_team       0.487805\n",
       "                home_team       0.682927\n",
       "Brooklyn Nets   away_team       0.170732\n",
       "Name: won, dtype: float64"
      ]
     },
     "execution_count": 12,
     "metadata": {},
     "output_type": "execute_result"
    }
   ],
   "source": [
    "%load solutions/tidy_00.py"
   ]
  },
  {
   "cell_type": "markdown",
   "metadata": {
    "collapsed": true
   },
   "source": [
    "## Stack / Unstack\n",
    "\n",
    "- stack: `DataFrame` -> `Series` with `MultiIndex`\n",
    "- unstack: `Series` with `MultiIndex` -> `DataFrame`"
   ]
  },
  {
   "cell_type": "markdown",
   "metadata": {},
   "source": [
    "The exact shape of a tidy dataset depends on the question being asked.\n",
    "Additionally, not all APIs expect tidy data, so you need to convert between \"wide\" and \"long\" form data.\n",
    "\n",
    "Let's create a `rest` varible that's the average `rest` by `home_away` and `date` across teams:"
   ]
  },
  {
   "cell_type": "code",
   "execution_count": 13,
   "metadata": {},
   "outputs": [
    {
     "data": {
      "text/plain": [
       "home_away  date      \n",
       "away_team  2015-10-27         NaN\n",
       "           2015-10-28    0.000000\n",
       "           2015-10-29    0.333333\n",
       "           2015-10-30    1.083333\n",
       "           2015-10-31    0.166667\n",
       "Name: rest, dtype: float64"
      ]
     },
     "execution_count": 13,
     "metadata": {},
     "output_type": "execute_result"
    }
   ],
   "source": [
    "rest = tidy.groupby(['home_away', 'date']).rest.mean()\n",
    "rest.head()"
   ]
  },
  {
   "cell_type": "markdown",
   "metadata": {},
   "source": [
    "`rest` is in \"long\" form. `DataFrame.plot` for example, expects wide form data, so use `.unstack`"
   ]
  },
  {
   "cell_type": "code",
   "execution_count": 14,
   "metadata": {},
   "outputs": [
    {
     "data": {
      "text/html": [
       "<div>\n",
       "<style>\n",
       "    .dataframe thead tr:only-child th {\n",
       "        text-align: right;\n",
       "    }\n",
       "\n",
       "    .dataframe thead th {\n",
       "        text-align: left;\n",
       "    }\n",
       "\n",
       "    .dataframe tbody tr th {\n",
       "        vertical-align: top;\n",
       "    }\n",
       "</style>\n",
       "<table border=\"1\" class=\"dataframe\">\n",
       "  <thead>\n",
       "    <tr style=\"text-align: right;\">\n",
       "      <th>home_away</th>\n",
       "      <th>away_team</th>\n",
       "      <th>home_team</th>\n",
       "    </tr>\n",
       "    <tr>\n",
       "      <th>date</th>\n",
       "      <th></th>\n",
       "      <th></th>\n",
       "    </tr>\n",
       "  </thead>\n",
       "  <tbody>\n",
       "    <tr>\n",
       "      <th>2015-10-27</th>\n",
       "      <td>NaN</td>\n",
       "      <td>NaN</td>\n",
       "    </tr>\n",
       "    <tr>\n",
       "      <th>2015-10-28</th>\n",
       "      <td>0.000000</td>\n",
       "      <td>0.000000</td>\n",
       "    </tr>\n",
       "    <tr>\n",
       "      <th>2015-10-29</th>\n",
       "      <td>0.333333</td>\n",
       "      <td>0.000000</td>\n",
       "    </tr>\n",
       "    <tr>\n",
       "      <th>2015-10-30</th>\n",
       "      <td>1.083333</td>\n",
       "      <td>0.916667</td>\n",
       "    </tr>\n",
       "    <tr>\n",
       "      <th>2015-10-31</th>\n",
       "      <td>0.166667</td>\n",
       "      <td>0.833333</td>\n",
       "    </tr>\n",
       "  </tbody>\n",
       "</table>\n",
       "</div>"
      ],
      "text/plain": [
       "home_away   away_team  home_team\n",
       "date                            \n",
       "2015-10-27        NaN        NaN\n",
       "2015-10-28   0.000000   0.000000\n",
       "2015-10-29   0.333333   0.000000\n",
       "2015-10-30   1.083333   0.916667\n",
       "2015-10-31   0.166667   0.833333"
      ]
     },
     "execution_count": 14,
     "metadata": {},
     "output_type": "execute_result"
    }
   ],
   "source": [
    "rest.unstack('home_away').head()"
   ]
  },
  {
   "cell_type": "markdown",
   "metadata": {},
   "source": [
    "And we can plot the rolling mean:"
   ]
  },
  {
   "cell_type": "code",
   "execution_count": 15,
   "metadata": {},
   "outputs": [
    {
     "data": {
      "image/png": "[encoded data removed]",
      "text/plain": [
       "<matplotlib.figure.Figure at 0x1128b62b0>"
      ]
     },
     "metadata": {},
     "output_type": "display_data"
    }
   ],
   "source": [
    "rest.unstack('home_away').rolling(7).mean().plot(figsize=(10, 5));"
   ]
  },
  {
   "cell_type": "markdown",
   "metadata": {},
   "source": [
    "Stack and unstack are inverses:"
   ]
  },
  {
   "cell_type": "code",
   "execution_count": 16,
   "metadata": {},
   "outputs": [
    {
     "data": {
      "text/plain": [
       "date        home_away\n",
       "2015-10-28  away_team    0.000000\n",
       "            home_team    0.000000\n",
       "2015-10-29  away_team    0.333333\n",
       "            home_team    0.000000\n",
       "2015-10-30  away_team    1.083333\n",
       "dtype: float64"
      ]
     },
     "execution_count": 16,
     "metadata": {},
     "output_type": "execute_result"
    }
   ],
   "source": [
    "rest.unstack(\"home_away\").stack().head()"
   ]
  },
  {
   "cell_type": "markdown",
   "metadata": {},
   "source": [
    "<div class=\"alert alert-success\" data-title=\"Home Court Advantage?\">\n",
    "  <h1><i class=\"fa fa-tasks\" aria-hidden=\"true\"></i> Exercise: Home Court Advantage?</h1>\n",
    "</div>\n",
    "<p>How much of home court advantage can be explained by rest?</p>"
   ]
  },
  {
   "cell_type": "markdown",
   "metadata": {},
   "source": [
    "Reproducing [this](http://www.nessis.org/nessis07/Dylan_Small.pdf).\n",
    "Basically, we want to run a regression of\n",
    "\n",
    "    point_spread ~ rest_spread + other_stuff\n",
    "\n",
    "We'll talk about the `other_stuff` later when we get to it.\n",
    "For now, we need to augment `df` with a couple additional varibles.\n",
    "\n",
    "If your DataFrame is out of sync, you might want to load in a fresh one, by copying this code into a new cell and running it.\n",
    "\n",
    "```python\n",
    "df = pd.read_csv('data/tidy_checkpoint.csv', parse_dates=['date'],\n",
    "                 index_col=['game_id', 'date'])\n",
    "```"
   ]
  },
  {
   "cell_type": "markdown",
   "metadata": {},
   "source": [
    "## Step 0: Outcome variables\n",
    "\n",
    "Modify `df` to include a couple potential targets\n",
    "\n",
    "- `home_win`: binary indicator for whether the home team won\n",
    "- `point_spread`: the home score minus the away score"
   ]
  },
  {
   "cell_type": "code",
   "execution_count": null,
   "metadata": {
    "collapsed": true
   },
   "outputs": [],
   "source": []
  },
  {
   "cell_type": "code",
   "execution_count": 18,
   "metadata": {},
   "outputs": [
    {
     "data": {
      "text/html": [
       "<div>\n",
       "<style>\n",
       "    .dataframe thead tr:only-child th {\n",
       "        text-align: right;\n",
       "    }\n",
       "\n",
       "    .dataframe thead th {\n",
       "        text-align: left;\n",
       "    }\n",
       "\n",
       "    .dataframe tbody tr th {\n",
       "        vertical-align: top;\n",
       "    }\n",
       "</style>\n",
       "<table border=\"1\" class=\"dataframe\">\n",
       "  <thead>\n",
       "    <tr style=\"text-align: right;\">\n",
       "      <th></th>\n",
       "      <th></th>\n",
       "      <th>away_team</th>\n",
       "      <th>away_points</th>\n",
       "      <th>home_team</th>\n",
       "      <th>home_points</th>\n",
       "      <th>away_rest</th>\n",
       "      <th>home_rest</th>\n",
       "      <th>winning_team</th>\n",
       "      <th>home_win</th>\n",
       "      <th>point_spread</th>\n",
       "    </tr>\n",
       "    <tr>\n",
       "      <th>game_id</th>\n",
       "      <th>date</th>\n",
       "      <th></th>\n",
       "      <th></th>\n",
       "      <th></th>\n",
       "      <th></th>\n",
       "      <th></th>\n",
       "      <th></th>\n",
       "      <th></th>\n",
       "      <th></th>\n",
       "      <th></th>\n",
       "    </tr>\n",
       "  </thead>\n",
       "  <tbody>\n",
       "    <tr>\n",
       "      <th>1</th>\n",
       "      <th>2015-10-27</th>\n",
       "      <td>Detroit Pistons</td>\n",
       "      <td>106.0</td>\n",
       "      <td>Atlanta Hawks</td>\n",
       "      <td>94.0</td>\n",
       "      <td>NaN</td>\n",
       "      <td>NaN</td>\n",
       "      <td>Detroit Pistons</td>\n",
       "      <td>False</td>\n",
       "      <td>-12.0</td>\n",
       "    </tr>\n",
       "    <tr>\n",
       "      <th>2</th>\n",
       "      <th>2015-10-27</th>\n",
       "      <td>Cleveland Cavaliers</td>\n",
       "      <td>95.0</td>\n",
       "      <td>Chicago Bulls</td>\n",
       "      <td>97.0</td>\n",
       "      <td>NaN</td>\n",
       "      <td>NaN</td>\n",
       "      <td>Chicago Bulls</td>\n",
       "      <td>True</td>\n",
       "      <td>2.0</td>\n",
       "    </tr>\n",
       "    <tr>\n",
       "      <th>3</th>\n",
       "      <th>2015-10-27</th>\n",
       "      <td>New Orleans Pelicans</td>\n",
       "      <td>95.0</td>\n",
       "      <td>Golden State Warriors</td>\n",
       "      <td>111.0</td>\n",
       "      <td>NaN</td>\n",
       "      <td>NaN</td>\n",
       "      <td>Golden State Warriors</td>\n",
       "      <td>True</td>\n",
       "      <td>16.0</td>\n",
       "    </tr>\n",
       "    <tr>\n",
       "      <th>4</th>\n",
       "      <th>2015-10-28</th>\n",
       "      <td>Philadelphia 76ers</td>\n",
       "      <td>95.0</td>\n",
       "      <td>Boston Celtics</td>\n",
       "      <td>112.0</td>\n",
       "      <td>NaN</td>\n",
       "      <td>NaN</td>\n",
       "      <td>Boston Celtics</td>\n",
       "      <td>True</td>\n",
       "      <td>17.0</td>\n",
       "    </tr>\n",
       "    <tr>\n",
       "      <th>5</th>\n",
       "      <th>2015-10-28</th>\n",
       "      <td>Chicago Bulls</td>\n",
       "      <td>115.0</td>\n",
       "      <td>Brooklyn Nets</td>\n",
       "      <td>100.0</td>\n",
       "      <td>0.0</td>\n",
       "      <td>NaN</td>\n",
       "      <td>Chicago Bulls</td>\n",
       "      <td>False</td>\n",
       "      <td>-15.0</td>\n",
       "    </tr>\n",
       "  </tbody>\n",
       "</table>\n",
       "</div>"
      ],
      "text/plain": [
       "                               away_team  away_points              home_team  \\\n",
       "game_id date                                                                   \n",
       "1       2015-10-27       Detroit Pistons        106.0          Atlanta Hawks   \n",
       "2       2015-10-27   Cleveland Cavaliers         95.0          Chicago Bulls   \n",
       "3       2015-10-27  New Orleans Pelicans         95.0  Golden State Warriors   \n",
       "4       2015-10-28    Philadelphia 76ers         95.0         Boston Celtics   \n",
       "5       2015-10-28         Chicago Bulls        115.0          Brooklyn Nets   \n",
       "\n",
       "                    home_points  away_rest  home_rest           winning_team  \\\n",
       "game_id date                                                                   \n",
       "1       2015-10-27         94.0        NaN        NaN        Detroit Pistons   \n",
       "2       2015-10-27         97.0        NaN        NaN          Chicago Bulls   \n",
       "3       2015-10-27        111.0        NaN        NaN  Golden State Warriors   \n",
       "4       2015-10-28        112.0        NaN        NaN         Boston Celtics   \n",
       "5       2015-10-28        100.0        0.0        NaN          Chicago Bulls   \n",
       "\n",
       "                    home_win  point_spread  \n",
       "game_id date                                \n",
       "1       2015-10-27     False         -12.0  \n",
       "2       2015-10-27      True           2.0  \n",
       "3       2015-10-27      True          16.0  \n",
       "4       2015-10-28      True          17.0  \n",
       "5       2015-10-28     False         -15.0  "
      ]
     },
     "execution_count": 18,
     "metadata": {},
     "output_type": "execute_result"
    }
   ],
   "source": [
    "%load solutions/tidy_01.py\n"
   ]
  },
  {
   "cell_type": "markdown",
   "metadata": {},
   "source": [
    "## Step 1: Team Strength\n",
    "\n",
    "Most examples I've seen use a \"team strength\" variable in their regression estimating the home court advantage. We'll grab one from ESPN."
   ]
  },
  {
   "cell_type": "markdown",
   "metadata": {},
   "source": [
    "Use RPI from prior year: http://www.espn.com/nba/stats/rpi/_/year/2015 as a measure of team strength\n",
    "\n",
    "```python\n",
    "rpi = pd.read_html(\"http://www.espn.com/nba/stats/rpi/_/year/2015\")[0]\n",
    "```"
   ]
  },
  {
   "cell_type": "code",
   "execution_count": 19,
   "metadata": {},
   "outputs": [
    {
     "data": {
      "text/html": [
       "<div>\n",
       "<style>\n",
       "    .dataframe thead tr:only-child th {\n",
       "        text-align: right;\n",
       "    }\n",
       "\n",
       "    .dataframe thead th {\n",
       "        text-align: left;\n",
       "    }\n",
       "\n",
       "    .dataframe tbody tr th {\n",
       "        vertical-align: top;\n",
       "    }\n",
       "</style>\n",
       "<table border=\"1\" class=\"dataframe\">\n",
       "  <thead>\n",
       "    <tr style=\"text-align: right;\">\n",
       "      <th></th>\n",
       "      <th>0</th>\n",
       "      <th>1</th>\n",
       "      <th>2</th>\n",
       "      <th>3</th>\n",
       "      <th>4</th>\n",
       "      <th>5</th>\n",
       "      <th>6</th>\n",
       "      <th>7</th>\n",
       "      <th>8</th>\n",
       "      <th>9</th>\n",
       "      <th>10</th>\n",
       "      <th>11</th>\n",
       "    </tr>\n",
       "  </thead>\n",
       "  <tbody>\n",
       "    <tr>\n",
       "      <th>0</th>\n",
       "      <td>2014-15 NBA RPI Rankings</td>\n",
       "      <td>NaN</td>\n",
       "      <td>NaN</td>\n",
       "      <td>NaN</td>\n",
       "      <td>NaN</td>\n",
       "      <td>NaN</td>\n",
       "      <td>NaN</td>\n",
       "      <td>NaN</td>\n",
       "      <td>NaN</td>\n",
       "      <td>NaN</td>\n",
       "      <td>NaN</td>\n",
       "      <td>NaN</td>\n",
       "    </tr>\n",
       "    <tr>\n",
       "      <th>1</th>\n",
       "      <td>RK</td>\n",
       "      <td>TEAM</td>\n",
       "      <td>RPI</td>\n",
       "      <td>W</td>\n",
       "      <td>L</td>\n",
       "      <td>PCT</td>\n",
       "      <td>SOS</td>\n",
       "      <td>PWR</td>\n",
       "      <td>PF</td>\n",
       "      <td>PA</td>\n",
       "      <td>EWL</td>\n",
       "      <td>EWP</td>\n",
       "    </tr>\n",
       "    <tr>\n",
       "      <th>2</th>\n",
       "      <td>1</td>\n",
       "      <td>Golden State</td>\n",
       "      <td>.582</td>\n",
       "      <td>67</td>\n",
       "      <td>15</td>\n",
       "      <td>.817</td>\n",
       "      <td>.504</td>\n",
       "      <td>1</td>\n",
       "      <td>9016</td>\n",
       "      <td>8188</td>\n",
       "      <td>68-14</td>\n",
       "      <td>.831</td>\n",
       "    </tr>\n",
       "    <tr>\n",
       "      <th>3</th>\n",
       "      <td>2</td>\n",
       "      <td>Houston</td>\n",
       "      <td>.552</td>\n",
       "      <td>56</td>\n",
       "      <td>26</td>\n",
       "      <td>.683</td>\n",
       "      <td>.509</td>\n",
       "      <td>7</td>\n",
       "      <td>8522</td>\n",
       "      <td>8240</td>\n",
       "      <td>52-30</td>\n",
       "      <td>.635</td>\n",
       "    </tr>\n",
       "    <tr>\n",
       "      <th>4</th>\n",
       "      <td>NaN</td>\n",
       "      <td>LA</td>\n",
       "      <td>.552</td>\n",
       "      <td>56</td>\n",
       "      <td>26</td>\n",
       "      <td>.683</td>\n",
       "      <td>.509</td>\n",
       "      <td>4</td>\n",
       "      <td>8751</td>\n",
       "      <td>8211</td>\n",
       "      <td>61-21</td>\n",
       "      <td>.741</td>\n",
       "    </tr>\n",
       "  </tbody>\n",
       "</table>\n",
       "</div>"
      ],
      "text/plain": [
       "                          0             1     2    3    4     5     6    7  \\\n",
       "0  2014-15 NBA RPI Rankings           NaN   NaN  NaN  NaN   NaN   NaN  NaN   \n",
       "1                        RK          TEAM   RPI    W    L   PCT   SOS  PWR   \n",
       "2                         1  Golden State  .582   67   15  .817  .504    1   \n",
       "3                         2       Houston  .552   56   26  .683  .509    7   \n",
       "4                       NaN            LA  .552   56   26  .683  .509    4   \n",
       "\n",
       "      8     9     10    11  \n",
       "0   NaN   NaN    NaN   NaN  \n",
       "1    PF    PA    EWL   EWP  \n",
       "2  9016  8188  68-14  .831  \n",
       "3  8522  8240  52-30  .635  \n",
       "4  8751  8211  61-21  .741  "
      ]
     },
     "execution_count": 19,
     "metadata": {},
     "output_type": "execute_result"
    }
   ],
   "source": [
    "raw_rpi = pd.read_csv(\"data/rpi.csv\")\n",
    "raw_rpi.head()"
   ]
  },
  {
   "cell_type": "code",
   "execution_count": 20,
   "metadata": {},
   "outputs": [
    {
     "data": {
      "text/html": [
       "<div>\n",
       "<style>\n",
       "    .dataframe thead tr:only-child th {\n",
       "        text-align: right;\n",
       "    }\n",
       "\n",
       "    .dataframe thead th {\n",
       "        text-align: left;\n",
       "    }\n",
       "\n",
       "    .dataframe tbody tr th {\n",
       "        vertical-align: top;\n",
       "    }\n",
       "</style>\n",
       "<table border=\"1\" class=\"dataframe\">\n",
       "  <thead>\n",
       "    <tr style=\"text-align: right;\">\n",
       "      <th></th>\n",
       "      <th>RK</th>\n",
       "      <th>RPI</th>\n",
       "      <th>W</th>\n",
       "      <th>L</th>\n",
       "      <th>PCT</th>\n",
       "      <th>SOS</th>\n",
       "      <th>PWR</th>\n",
       "      <th>PF</th>\n",
       "      <th>PA</th>\n",
       "      <th>EWL</th>\n",
       "      <th>EWP</th>\n",
       "    </tr>\n",
       "    <tr>\n",
       "      <th>TEAM</th>\n",
       "      <th></th>\n",
       "      <th></th>\n",
       "      <th></th>\n",
       "      <th></th>\n",
       "      <th></th>\n",
       "      <th></th>\n",
       "      <th></th>\n",
       "      <th></th>\n",
       "      <th></th>\n",
       "      <th></th>\n",
       "      <th></th>\n",
       "    </tr>\n",
       "  </thead>\n",
       "  <tbody>\n",
       "    <tr>\n",
       "      <th>Golden State</th>\n",
       "      <td>1</td>\n",
       "      <td>0.582</td>\n",
       "      <td>67</td>\n",
       "      <td>15</td>\n",
       "      <td>.817</td>\n",
       "      <td>.504</td>\n",
       "      <td>1</td>\n",
       "      <td>9016</td>\n",
       "      <td>8188</td>\n",
       "      <td>68-14</td>\n",
       "      <td>.831</td>\n",
       "    </tr>\n",
       "    <tr>\n",
       "      <th>Houston</th>\n",
       "      <td>2</td>\n",
       "      <td>0.552</td>\n",
       "      <td>56</td>\n",
       "      <td>26</td>\n",
       "      <td>.683</td>\n",
       "      <td>.509</td>\n",
       "      <td>7</td>\n",
       "      <td>8522</td>\n",
       "      <td>8240</td>\n",
       "      <td>52-30</td>\n",
       "      <td>.635</td>\n",
       "    </tr>\n",
       "    <tr>\n",
       "      <th>LA</th>\n",
       "      <td>NaN</td>\n",
       "      <td>0.552</td>\n",
       "      <td>56</td>\n",
       "      <td>26</td>\n",
       "      <td>.683</td>\n",
       "      <td>.509</td>\n",
       "      <td>4</td>\n",
       "      <td>8751</td>\n",
       "      <td>8211</td>\n",
       "      <td>61-21</td>\n",
       "      <td>.741</td>\n",
       "    </tr>\n",
       "    <tr>\n",
       "      <th>Atlanta</th>\n",
       "      <td>4</td>\n",
       "      <td>0.551</td>\n",
       "      <td>60</td>\n",
       "      <td>22</td>\n",
       "      <td>.732</td>\n",
       "      <td>.491</td>\n",
       "      <td>5</td>\n",
       "      <td>8409</td>\n",
       "      <td>7964</td>\n",
       "      <td>58-24</td>\n",
       "      <td>.710</td>\n",
       "    </tr>\n",
       "    <tr>\n",
       "      <th>Memphis</th>\n",
       "      <td>5</td>\n",
       "      <td>0.549</td>\n",
       "      <td>55</td>\n",
       "      <td>27</td>\n",
       "      <td>.671</td>\n",
       "      <td>.509</td>\n",
       "      <td>8</td>\n",
       "      <td>8062</td>\n",
       "      <td>7796</td>\n",
       "      <td>52-30</td>\n",
       "      <td>.635</td>\n",
       "    </tr>\n",
       "  </tbody>\n",
       "</table>\n",
       "</div>"
      ],
      "text/plain": [
       "               RK    RPI   W   L   PCT   SOS PWR    PF    PA    EWL   EWP\n",
       "TEAM                                                                     \n",
       "Golden State    1  0.582  67  15  .817  .504   1  9016  8188  68-14  .831\n",
       "Houston         2  0.552  56  26  .683  .509   7  8522  8240  52-30  .635\n",
       "LA            NaN  0.552  56  26  .683  .509   4  8751  8211  61-21  .741\n",
       "Atlanta         4  0.551  60  22  .732  .491   5  8409  7964  58-24  .710\n",
       "Memphis         5  0.549  55  27  .671  .509   8  8062  7796  52-30  .635"
      ]
     },
     "execution_count": 20,
     "metadata": {},
     "output_type": "execute_result"
    }
   ],
   "source": [
    "rpi_cols = raw_rpi.loc[1]\n",
    "rpi = (\n",
    "    raw_rpi.drop([0, 1])\n",
    "       .rename(columns={str(i): v for i, v in enumerate(rpi_cols)})\n",
    "       .set_index(\"TEAM\")\n",
    "       .assign(RPI=lambda x: pd.to_numeric(x.RPI))\n",
    ")\n",
    "rpi.head()"
   ]
  },
  {
   "cell_type": "markdown",
   "metadata": {},
   "source": [
    "Merge `df` and `rpi` on team. One uses just the city, while the other uses the city and team name.\n",
    "Fortunately, both versions have the same sort order, so we're able to unambigusly map `<city>` to `<city> <team>`."
   ]
  },
  {
   "cell_type": "code",
   "execution_count": 21,
   "metadata": {},
   "outputs": [
    {
     "data": {
      "text/plain": [
       "{'Atlanta': 'Atlanta Hawks',\n",
       " 'Boston': 'Boston Celtics',\n",
       " 'Brooklyn': 'Brooklyn Nets',\n",
       " 'Charlotte': 'Charlotte Hornets',\n",
       " 'Chicago': 'Chicago Bulls',\n",
       " 'Cleveland': 'Cleveland Cavaliers',\n",
       " 'Dallas': 'Dallas Mavericks',\n",
       " 'Denver': 'Denver Nuggets',\n",
       " 'Detroit': 'Detroit Pistons',\n",
       " 'Golden State': 'Golden State Warriors',\n",
       " 'Houston': 'Houston Rockets',\n",
       " 'Indiana': 'Indiana Pacers',\n",
       " 'LA': 'Los Angeles Clippers',\n",
       " 'LA Lakers': 'Los Angeles Lakers',\n",
       " 'Memphis': 'Memphis Grizzlies',\n",
       " 'Miami': 'Miami Heat',\n",
       " 'Milwaukee': 'Milwaukee Bucks',\n",
       " 'Minnesota': 'Minnesota Timberwolves',\n",
       " 'New Orleans': 'New Orleans Pelicans',\n",
       " 'New York': 'New York Knicks',\n",
       " 'Oklahoma City': 'Oklahoma City Thunder',\n",
       " 'Orlando': 'Orlando Magic',\n",
       " 'Philadelphia': 'Philadelphia 76ers',\n",
       " 'Phoenix': 'Phoenix Suns',\n",
       " 'Portland': 'Portland Trail Blazers',\n",
       " 'Sacramento': 'Sacramento Kings',\n",
       " 'San Antonio': 'San Antonio Spurs',\n",
       " 'Toronto': 'Toronto Raptors',\n",
       " 'Utah': 'Utah Jazz',\n",
       " 'Washington': 'Washington Wizards'}"
      ]
     },
     "execution_count": 21,
     "metadata": {},
     "output_type": "execute_result"
    }
   ],
   "source": [
    "mapping = dict(zip(\n",
    "    sorted(rpi.index),\n",
    "    sorted(set(df.away_team.unique()))\n",
    "))\n",
    "mapping"
   ]
  },
  {
   "cell_type": "markdown",
   "metadata": {},
   "source": [
    "Create two new columns in `df`\n",
    "\n",
    "- `home_strength`\n",
    "- `away_strength`\n",
    "\n",
    "Using either `.map` or `pd.merge` and the `mapping` varaible we just created.\n",
    "The strength columns should contain the `RPI` for the home / away team from `rpi`."
   ]
  },
  {
   "cell_type": "code",
   "execution_count": null,
   "metadata": {
    "collapsed": true
   },
   "outputs": [],
   "source": []
  },
  {
   "cell_type": "code",
   "execution_count": 23,
   "metadata": {},
   "outputs": [
    {
     "data": {
      "text/html": [
       "<div>\n",
       "<style>\n",
       "    .dataframe thead tr:only-child th {\n",
       "        text-align: right;\n",
       "    }\n",
       "\n",
       "    .dataframe thead th {\n",
       "        text-align: left;\n",
       "    }\n",
       "\n",
       "    .dataframe tbody tr th {\n",
       "        vertical-align: top;\n",
       "    }\n",
       "</style>\n",
       "<table border=\"1\" class=\"dataframe\">\n",
       "  <thead>\n",
       "    <tr style=\"text-align: right;\">\n",
       "      <th></th>\n",
       "      <th></th>\n",
       "      <th>away_team</th>\n",
       "      <th>away_points</th>\n",
       "      <th>home_team</th>\n",
       "      <th>home_points</th>\n",
       "      <th>away_rest</th>\n",
       "      <th>home_rest</th>\n",
       "      <th>winning_team</th>\n",
       "      <th>home_win</th>\n",
       "      <th>point_spread</th>\n",
       "      <th>home_strength</th>\n",
       "      <th>away_strength</th>\n",
       "    </tr>\n",
       "    <tr>\n",
       "      <th>game_id</th>\n",
       "      <th>date</th>\n",
       "      <th></th>\n",
       "      <th></th>\n",
       "      <th></th>\n",
       "      <th></th>\n",
       "      <th></th>\n",
       "      <th></th>\n",
       "      <th></th>\n",
       "      <th></th>\n",
       "      <th></th>\n",
       "      <th></th>\n",
       "      <th></th>\n",
       "    </tr>\n",
       "  </thead>\n",
       "  <tbody>\n",
       "    <tr>\n",
       "      <th>1</th>\n",
       "      <th>2015-10-27</th>\n",
       "      <td>Detroit Pistons</td>\n",
       "      <td>106.0</td>\n",
       "      <td>Atlanta Hawks</td>\n",
       "      <td>94.0</td>\n",
       "      <td>NaN</td>\n",
       "      <td>NaN</td>\n",
       "      <td>Detroit Pistons</td>\n",
       "      <td>False</td>\n",
       "      <td>-12.0</td>\n",
       "      <td>0.551</td>\n",
       "      <td>0.467</td>\n",
       "    </tr>\n",
       "    <tr>\n",
       "      <th>2</th>\n",
       "      <th>2015-10-27</th>\n",
       "      <td>Cleveland Cavaliers</td>\n",
       "      <td>95.0</td>\n",
       "      <td>Chicago Bulls</td>\n",
       "      <td>97.0</td>\n",
       "      <td>NaN</td>\n",
       "      <td>NaN</td>\n",
       "      <td>Chicago Bulls</td>\n",
       "      <td>True</td>\n",
       "      <td>2.0</td>\n",
       "      <td>0.523</td>\n",
       "      <td>0.535</td>\n",
       "    </tr>\n",
       "    <tr>\n",
       "      <th>3</th>\n",
       "      <th>2015-10-27</th>\n",
       "      <td>New Orleans Pelicans</td>\n",
       "      <td>95.0</td>\n",
       "      <td>Golden State Warriors</td>\n",
       "      <td>111.0</td>\n",
       "      <td>NaN</td>\n",
       "      <td>NaN</td>\n",
       "      <td>Golden State Warriors</td>\n",
       "      <td>True</td>\n",
       "      <td>16.0</td>\n",
       "      <td>0.582</td>\n",
       "      <td>0.517</td>\n",
       "    </tr>\n",
       "    <tr>\n",
       "      <th>4</th>\n",
       "      <th>2015-10-28</th>\n",
       "      <td>Philadelphia 76ers</td>\n",
       "      <td>95.0</td>\n",
       "      <td>Boston Celtics</td>\n",
       "      <td>112.0</td>\n",
       "      <td>NaN</td>\n",
       "      <td>NaN</td>\n",
       "      <td>Boston Celtics</td>\n",
       "      <td>True</td>\n",
       "      <td>17.0</td>\n",
       "      <td>0.490</td>\n",
       "      <td>0.425</td>\n",
       "    </tr>\n",
       "    <tr>\n",
       "      <th>5</th>\n",
       "      <th>2015-10-28</th>\n",
       "      <td>Chicago Bulls</td>\n",
       "      <td>115.0</td>\n",
       "      <td>Brooklyn Nets</td>\n",
       "      <td>100.0</td>\n",
       "      <td>0.0</td>\n",
       "      <td>NaN</td>\n",
       "      <td>Chicago Bulls</td>\n",
       "      <td>False</td>\n",
       "      <td>-15.0</td>\n",
       "      <td>0.487</td>\n",
       "      <td>0.523</td>\n",
       "    </tr>\n",
       "  </tbody>\n",
       "</table>\n",
       "</div>"
      ],
      "text/plain": [
       "                               away_team  away_points              home_team  \\\n",
       "game_id date                                                                   \n",
       "1       2015-10-27       Detroit Pistons        106.0          Atlanta Hawks   \n",
       "2       2015-10-27   Cleveland Cavaliers         95.0          Chicago Bulls   \n",
       "3       2015-10-27  New Orleans Pelicans         95.0  Golden State Warriors   \n",
       "4       2015-10-28    Philadelphia 76ers         95.0         Boston Celtics   \n",
       "5       2015-10-28         Chicago Bulls        115.0          Brooklyn Nets   \n",
       "\n",
       "                    home_points  away_rest  home_rest           winning_team  \\\n",
       "game_id date                                                                   \n",
       "1       2015-10-27         94.0        NaN        NaN        Detroit Pistons   \n",
       "2       2015-10-27         97.0        NaN        NaN          Chicago Bulls   \n",
       "3       2015-10-27        111.0        NaN        NaN  Golden State Warriors   \n",
       "4       2015-10-28        112.0        NaN        NaN         Boston Celtics   \n",
       "5       2015-10-28        100.0        0.0        NaN          Chicago Bulls   \n",
       "\n",
       "                    home_win  point_spread  home_strength  away_strength  \n",
       "game_id date                                                              \n",
       "1       2015-10-27     False         -12.0          0.551          0.467  \n",
       "2       2015-10-27      True           2.0          0.523          0.535  \n",
       "3       2015-10-27      True          16.0          0.582          0.517  \n",
       "4       2015-10-28      True          17.0          0.490          0.425  \n",
       "5       2015-10-28     False         -15.0          0.487          0.523  "
      ]
     },
     "execution_count": 23,
     "metadata": {},
     "output_type": "execute_result"
    }
   ],
   "source": [
    "%load solutions/tidy_02.py"
   ]
  },
  {
   "cell_type": "markdown",
   "metadata": {},
   "source": [
    "## Step 2: Rest Difference\n",
    "\n",
    "Create a new column `rest_spread` that contains the difference in rest (home - away)"
   ]
  },
  {
   "cell_type": "code",
   "execution_count": null,
   "metadata": {
    "collapsed": true
   },
   "outputs": [],
   "source": []
  },
  {
   "cell_type": "code",
   "execution_count": 25,
   "metadata": {},
   "outputs": [
    {
     "data": {
      "text/html": [
       "<div>\n",
       "<style>\n",
       "    .dataframe thead tr:only-child th {\n",
       "        text-align: right;\n",
       "    }\n",
       "\n",
       "    .dataframe thead th {\n",
       "        text-align: left;\n",
       "    }\n",
       "\n",
       "    .dataframe tbody tr th {\n",
       "        vertical-align: top;\n",
       "    }\n",
       "</style>\n",
       "<table border=\"1\" class=\"dataframe\">\n",
       "  <thead>\n",
       "    <tr style=\"text-align: right;\">\n",
       "      <th></th>\n",
       "      <th></th>\n",
       "      <th>away_team</th>\n",
       "      <th>away_points</th>\n",
       "      <th>home_team</th>\n",
       "      <th>home_points</th>\n",
       "      <th>away_rest</th>\n",
       "      <th>home_rest</th>\n",
       "      <th>winning_team</th>\n",
       "      <th>home_win</th>\n",
       "      <th>point_spread</th>\n",
       "      <th>home_strength</th>\n",
       "      <th>away_strength</th>\n",
       "      <th>rest_spread</th>\n",
       "    </tr>\n",
       "    <tr>\n",
       "      <th>game_id</th>\n",
       "      <th>date</th>\n",
       "      <th></th>\n",
       "      <th></th>\n",
       "      <th></th>\n",
       "      <th></th>\n",
       "      <th></th>\n",
       "      <th></th>\n",
       "      <th></th>\n",
       "      <th></th>\n",
       "      <th></th>\n",
       "      <th></th>\n",
       "      <th></th>\n",
       "      <th></th>\n",
       "    </tr>\n",
       "  </thead>\n",
       "  <tbody>\n",
       "    <tr>\n",
       "      <th>1</th>\n",
       "      <th>2015-10-27</th>\n",
       "      <td>Detroit Pistons</td>\n",
       "      <td>106.0</td>\n",
       "      <td>Atlanta Hawks</td>\n",
       "      <td>94.0</td>\n",
       "      <td>NaN</td>\n",
       "      <td>NaN</td>\n",
       "      <td>Detroit Pistons</td>\n",
       "      <td>False</td>\n",
       "      <td>-12.0</td>\n",
       "      <td>0.551</td>\n",
       "      <td>0.467</td>\n",
       "      <td>NaN</td>\n",
       "    </tr>\n",
       "    <tr>\n",
       "      <th>2</th>\n",
       "      <th>2015-10-27</th>\n",
       "      <td>Cleveland Cavaliers</td>\n",
       "      <td>95.0</td>\n",
       "      <td>Chicago Bulls</td>\n",
       "      <td>97.0</td>\n",
       "      <td>NaN</td>\n",
       "      <td>NaN</td>\n",
       "      <td>Chicago Bulls</td>\n",
       "      <td>True</td>\n",
       "      <td>2.0</td>\n",
       "      <td>0.523</td>\n",
       "      <td>0.535</td>\n",
       "      <td>NaN</td>\n",
       "    </tr>\n",
       "    <tr>\n",
       "      <th>3</th>\n",
       "      <th>2015-10-27</th>\n",
       "      <td>New Orleans Pelicans</td>\n",
       "      <td>95.0</td>\n",
       "      <td>Golden State Warriors</td>\n",
       "      <td>111.0</td>\n",
       "      <td>NaN</td>\n",
       "      <td>NaN</td>\n",
       "      <td>Golden State Warriors</td>\n",
       "      <td>True</td>\n",
       "      <td>16.0</td>\n",
       "      <td>0.582</td>\n",
       "      <td>0.517</td>\n",
       "      <td>NaN</td>\n",
       "    </tr>\n",
       "    <tr>\n",
       "      <th>4</th>\n",
       "      <th>2015-10-28</th>\n",
       "      <td>Philadelphia 76ers</td>\n",
       "      <td>95.0</td>\n",
       "      <td>Boston Celtics</td>\n",
       "      <td>112.0</td>\n",
       "      <td>NaN</td>\n",
       "      <td>NaN</td>\n",
       "      <td>Boston Celtics</td>\n",
       "      <td>True</td>\n",
       "      <td>17.0</td>\n",
       "      <td>0.490</td>\n",
       "      <td>0.425</td>\n",
       "      <td>NaN</td>\n",
       "    </tr>\n",
       "    <tr>\n",
       "      <th>5</th>\n",
       "      <th>2015-10-28</th>\n",
       "      <td>Chicago Bulls</td>\n",
       "      <td>115.0</td>\n",
       "      <td>Brooklyn Nets</td>\n",
       "      <td>100.0</td>\n",
       "      <td>0.0</td>\n",
       "      <td>NaN</td>\n",
       "      <td>Chicago Bulls</td>\n",
       "      <td>False</td>\n",
       "      <td>-15.0</td>\n",
       "      <td>0.487</td>\n",
       "      <td>0.523</td>\n",
       "      <td>NaN</td>\n",
       "    </tr>\n",
       "  </tbody>\n",
       "</table>\n",
       "</div>"
      ],
      "text/plain": [
       "                               away_team  away_points              home_team  \\\n",
       "game_id date                                                                   \n",
       "1       2015-10-27       Detroit Pistons        106.0          Atlanta Hawks   \n",
       "2       2015-10-27   Cleveland Cavaliers         95.0          Chicago Bulls   \n",
       "3       2015-10-27  New Orleans Pelicans         95.0  Golden State Warriors   \n",
       "4       2015-10-28    Philadelphia 76ers         95.0         Boston Celtics   \n",
       "5       2015-10-28         Chicago Bulls        115.0          Brooklyn Nets   \n",
       "\n",
       "                    home_points  away_rest  home_rest           winning_team  \\\n",
       "game_id date                                                                   \n",
       "1       2015-10-27         94.0        NaN        NaN        Detroit Pistons   \n",
       "2       2015-10-27         97.0        NaN        NaN          Chicago Bulls   \n",
       "3       2015-10-27        111.0        NaN        NaN  Golden State Warriors   \n",
       "4       2015-10-28        112.0        NaN        NaN         Boston Celtics   \n",
       "5       2015-10-28        100.0        0.0        NaN          Chicago Bulls   \n",
       "\n",
       "                    home_win  point_spread  home_strength  away_strength  \\\n",
       "game_id date                                                               \n",
       "1       2015-10-27     False         -12.0          0.551          0.467   \n",
       "2       2015-10-27      True           2.0          0.523          0.535   \n",
       "3       2015-10-27      True          16.0          0.582          0.517   \n",
       "4       2015-10-28      True          17.0          0.490          0.425   \n",
       "5       2015-10-28     False         -15.0          0.487          0.523   \n",
       "\n",
       "                    rest_spread  \n",
       "game_id date                     \n",
       "1       2015-10-27          NaN  \n",
       "2       2015-10-27          NaN  \n",
       "3       2015-10-27          NaN  \n",
       "4       2015-10-28          NaN  \n",
       "5       2015-10-28          NaN  "
      ]
     },
     "execution_count": 25,
     "metadata": {},
     "output_type": "execute_result"
    }
   ],
   "source": [
    "%load solutions/tidy_03.py\n"
   ]
  },
  {
   "cell_type": "markdown",
   "metadata": {},
   "source": [
    "Remove rows with missing values (rest), fixup a dtype for statsmodels"
   ]
  },
  {
   "cell_type": "code",
   "execution_count": 26,
   "metadata": {},
   "outputs": [
    {
     "data": {
      "text/html": [
       "<div>\n",
       "<style>\n",
       "    .dataframe thead tr:only-child th {\n",
       "        text-align: right;\n",
       "    }\n",
       "\n",
       "    .dataframe thead th {\n",
       "        text-align: left;\n",
       "    }\n",
       "\n",
       "    .dataframe tbody tr th {\n",
       "        vertical-align: top;\n",
       "    }\n",
       "</style>\n",
       "<table border=\"1\" class=\"dataframe\">\n",
       "  <thead>\n",
       "    <tr style=\"text-align: right;\">\n",
       "      <th></th>\n",
       "      <th></th>\n",
       "      <th>away_team</th>\n",
       "      <th>away_points</th>\n",
       "      <th>home_team</th>\n",
       "      <th>home_points</th>\n",
       "      <th>away_rest</th>\n",
       "      <th>home_rest</th>\n",
       "      <th>winning_team</th>\n",
       "      <th>home_win</th>\n",
       "      <th>point_spread</th>\n",
       "      <th>home_strength</th>\n",
       "      <th>away_strength</th>\n",
       "      <th>rest_spread</th>\n",
       "    </tr>\n",
       "    <tr>\n",
       "      <th>game_id</th>\n",
       "      <th>date</th>\n",
       "      <th></th>\n",
       "      <th></th>\n",
       "      <th></th>\n",
       "      <th></th>\n",
       "      <th></th>\n",
       "      <th></th>\n",
       "      <th></th>\n",
       "      <th></th>\n",
       "      <th></th>\n",
       "      <th></th>\n",
       "      <th></th>\n",
       "      <th></th>\n",
       "    </tr>\n",
       "  </thead>\n",
       "  <tbody>\n",
       "    <tr>\n",
       "      <th>18</th>\n",
       "      <th>2015-10-29</th>\n",
       "      <td>Memphis Grizzlies</td>\n",
       "      <td>112.0</td>\n",
       "      <td>Indiana Pacers</td>\n",
       "      <td>103.0</td>\n",
       "      <td>0.0</td>\n",
       "      <td>0.0</td>\n",
       "      <td>Memphis Grizzlies</td>\n",
       "      <td>0</td>\n",
       "      <td>-9.0</td>\n",
       "      <td>0.484</td>\n",
       "      <td>0.549</td>\n",
       "      <td>0.0</td>\n",
       "    </tr>\n",
       "    <tr>\n",
       "      <th>19</th>\n",
       "      <th>2015-10-29</th>\n",
       "      <td>Dallas Mavericks</td>\n",
       "      <td>88.0</td>\n",
       "      <td>Los Angeles Clippers</td>\n",
       "      <td>104.0</td>\n",
       "      <td>0.0</td>\n",
       "      <td>0.0</td>\n",
       "      <td>Los Angeles Clippers</td>\n",
       "      <td>1</td>\n",
       "      <td>16.0</td>\n",
       "      <td>0.552</td>\n",
       "      <td>0.536</td>\n",
       "      <td>0.0</td>\n",
       "    </tr>\n",
       "    <tr>\n",
       "      <th>20</th>\n",
       "      <th>2015-10-29</th>\n",
       "      <td>Atlanta Hawks</td>\n",
       "      <td>112.0</td>\n",
       "      <td>New York Knicks</td>\n",
       "      <td>101.0</td>\n",
       "      <td>1.0</td>\n",
       "      <td>0.0</td>\n",
       "      <td>Atlanta Hawks</td>\n",
       "      <td>0</td>\n",
       "      <td>-11.0</td>\n",
       "      <td>0.419</td>\n",
       "      <td>0.551</td>\n",
       "      <td>-1.0</td>\n",
       "    </tr>\n",
       "    <tr>\n",
       "      <th>21</th>\n",
       "      <th>2015-10-30</th>\n",
       "      <td>Charlotte Hornets</td>\n",
       "      <td>94.0</td>\n",
       "      <td>Atlanta Hawks</td>\n",
       "      <td>97.0</td>\n",
       "      <td>1.0</td>\n",
       "      <td>0.0</td>\n",
       "      <td>Atlanta Hawks</td>\n",
       "      <td>1</td>\n",
       "      <td>3.0</td>\n",
       "      <td>0.551</td>\n",
       "      <td>0.471</td>\n",
       "      <td>-1.0</td>\n",
       "    </tr>\n",
       "    <tr>\n",
       "      <th>22</th>\n",
       "      <th>2015-10-30</th>\n",
       "      <td>Toronto Raptors</td>\n",
       "      <td>113.0</td>\n",
       "      <td>Boston Celtics</td>\n",
       "      <td>103.0</td>\n",
       "      <td>1.0</td>\n",
       "      <td>1.0</td>\n",
       "      <td>Toronto Raptors</td>\n",
       "      <td>0</td>\n",
       "      <td>-10.0</td>\n",
       "      <td>0.490</td>\n",
       "      <td>0.517</td>\n",
       "      <td>0.0</td>\n",
       "    </tr>\n",
       "  </tbody>\n",
       "</table>\n",
       "</div>"
      ],
      "text/plain": [
       "                            away_team  away_points             home_team  \\\n",
       "game_id date                                                               \n",
       "18      2015-10-29  Memphis Grizzlies        112.0        Indiana Pacers   \n",
       "19      2015-10-29   Dallas Mavericks         88.0  Los Angeles Clippers   \n",
       "20      2015-10-29      Atlanta Hawks        112.0       New York Knicks   \n",
       "21      2015-10-30  Charlotte Hornets         94.0         Atlanta Hawks   \n",
       "22      2015-10-30    Toronto Raptors        113.0        Boston Celtics   \n",
       "\n",
       "                    home_points  away_rest  home_rest          winning_team  \\\n",
       "game_id date                                                                  \n",
       "18      2015-10-29        103.0        0.0        0.0     Memphis Grizzlies   \n",
       "19      2015-10-29        104.0        0.0        0.0  Los Angeles Clippers   \n",
       "20      2015-10-29        101.0        1.0        0.0         Atlanta Hawks   \n",
       "21      2015-10-30         97.0        1.0        0.0         Atlanta Hawks   \n",
       "22      2015-10-30        103.0        1.0        1.0       Toronto Raptors   \n",
       "\n",
       "                    home_win  point_spread  home_strength  away_strength  \\\n",
       "game_id date                                                               \n",
       "18      2015-10-29         0          -9.0          0.484          0.549   \n",
       "19      2015-10-29         1          16.0          0.552          0.536   \n",
       "20      2015-10-29         0         -11.0          0.419          0.551   \n",
       "21      2015-10-30         1           3.0          0.551          0.471   \n",
       "22      2015-10-30         0         -10.0          0.490          0.517   \n",
       "\n",
       "                    rest_spread  \n",
       "game_id date                     \n",
       "18      2015-10-29          0.0  \n",
       "19      2015-10-29          0.0  \n",
       "20      2015-10-29         -1.0  \n",
       "21      2015-10-30         -1.0  \n",
       "22      2015-10-30          0.0  "
      ]
     },
     "execution_count": 26,
     "metadata": {},
     "output_type": "execute_result"
    }
   ],
   "source": [
    "df = df.dropna()\n",
    "df.loc[:, 'home_win'] = df['home_win'].astype(int)\n",
    "df.head()"
   ]
  },
  {
   "cell_type": "markdown",
   "metadata": {},
   "source": [
    "## Step 3: Sanity Check\n",
    "\n",
    "Let's do some checks to see if we're on the right track.\n",
    "Does the home team typically have more rest?"
   ]
  },
  {
   "cell_type": "code",
   "execution_count": null,
   "metadata": {
    "collapsed": true
   },
   "outputs": [],
   "source": []
  },
  {
   "cell_type": "code",
   "execution_count": 28,
   "metadata": {},
   "outputs": [
    {
     "data": {
      "text/plain": [
       "0.19455894476504534"
      ]
     },
     "execution_count": 28,
     "metadata": {},
     "output_type": "execute_result"
    }
   ],
   "source": [
    "%load solutions/tidy_drest.py\n"
   ]
  },
  {
   "cell_type": "markdown",
   "metadata": {},
   "source": [
    "What's the relationship between the difference in rest and home win percent? I did a barplot, but you can explore it however you want."
   ]
  },
  {
   "cell_type": "code",
   "execution_count": null,
   "metadata": {
    "collapsed": true
   },
   "outputs": [],
   "source": []
  },
  {
   "cell_type": "code",
   "execution_count": 30,
   "metadata": {},
   "outputs": [
    {
     "data": {
      "image/png": "[encoded data removed]",
      "text/plain": [
       "<matplotlib.figure.Figure at 0x1133da198>"
      ]
     },
     "metadata": {},
     "output_type": "display_data"
    }
   ],
   "source": [
    "%load solutions/tidy_04.py\n"
   ]
  },
  {
   "cell_type": "markdown",
   "metadata": {},
   "source": [
    "We can plot each team's win percent by home or away:"
   ]
  },
  {
   "cell_type": "code",
   "execution_count": 31,
   "metadata": {},
   "outputs": [
    {
     "data": {
      "image/png": "[encoded data removed]",
      "text/plain": [
       "<matplotlib.figure.Figure at 0x112c14f98>"
      ]
     },
     "metadata": {},
     "output_type": "display_data"
    }
   ],
   "source": [
    "g = sns.FacetGrid(win_pct.reset_index(), hue='team', size=8, aspect=.5, palette=['k'])\n",
    "g.map(sns.pointplot, 'home_or_away', 'won').set(ylim=(0, 1));"
   ]
  },
  {
   "cell_type": "markdown",
   "metadata": {},
   "source": [
    "## Step 4: Regression\n",
    "\n",
    "Now we can fit the model using statsmodels"
   ]
  },
  {
   "cell_type": "code",
   "execution_count": 32,
   "metadata": {},
   "outputs": [
    {
     "name": "stderr",
     "output_type": "stream",
     "text": [
      "/Users/taugspurger/miniconda3/envs/ph2t/lib/python3.6/site-packages/statsmodels/compat/pandas.py:56: FutureWarning: The pandas.core.datetools module is deprecated and will be removed in a future version. Please use the pandas.tseries module instead.\n",
      "  from pandas.core import datetools\n"
     ]
    }
   ],
   "source": [
    "import statsmodels.api as sm\n",
    "import statsmodels.formula.api as smf"
   ]
  },
  {
   "cell_type": "code",
   "execution_count": 33,
   "metadata": {},
   "outputs": [
    {
     "data": {
      "text/html": [
       "<div>\n",
       "<style>\n",
       "    .dataframe thead tr:only-child th {\n",
       "        text-align: right;\n",
       "    }\n",
       "\n",
       "    .dataframe thead th {\n",
       "        text-align: left;\n",
       "    }\n",
       "\n",
       "    .dataframe tbody tr th {\n",
       "        vertical-align: top;\n",
       "    }\n",
       "</style>\n",
       "<table border=\"1\" class=\"dataframe\">\n",
       "  <thead>\n",
       "    <tr style=\"text-align: right;\">\n",
       "      <th></th>\n",
       "      <th></th>\n",
       "      <th>away_team</th>\n",
       "      <th>away_points</th>\n",
       "      <th>home_team</th>\n",
       "      <th>home_points</th>\n",
       "      <th>away_rest</th>\n",
       "      <th>home_rest</th>\n",
       "      <th>winning_team</th>\n",
       "      <th>home_win</th>\n",
       "      <th>point_spread</th>\n",
       "      <th>home_strength</th>\n",
       "      <th>away_strength</th>\n",
       "      <th>rest_spread</th>\n",
       "    </tr>\n",
       "    <tr>\n",
       "      <th>game_id</th>\n",
       "      <th>date</th>\n",
       "      <th></th>\n",
       "      <th></th>\n",
       "      <th></th>\n",
       "      <th></th>\n",
       "      <th></th>\n",
       "      <th></th>\n",
       "      <th></th>\n",
       "      <th></th>\n",
       "      <th></th>\n",
       "      <th></th>\n",
       "      <th></th>\n",
       "      <th></th>\n",
       "    </tr>\n",
       "  </thead>\n",
       "  <tbody>\n",
       "    <tr>\n",
       "      <th>18</th>\n",
       "      <th>2015-10-29</th>\n",
       "      <td>Memphis Grizzlies</td>\n",
       "      <td>112.0</td>\n",
       "      <td>Indiana Pacers</td>\n",
       "      <td>103.0</td>\n",
       "      <td>0.0</td>\n",
       "      <td>0.0</td>\n",
       "      <td>Memphis Grizzlies</td>\n",
       "      <td>0</td>\n",
       "      <td>-9.0</td>\n",
       "      <td>0.484</td>\n",
       "      <td>0.549</td>\n",
       "      <td>0.0</td>\n",
       "    </tr>\n",
       "    <tr>\n",
       "      <th>19</th>\n",
       "      <th>2015-10-29</th>\n",
       "      <td>Dallas Mavericks</td>\n",
       "      <td>88.0</td>\n",
       "      <td>Los Angeles Clippers</td>\n",
       "      <td>104.0</td>\n",
       "      <td>0.0</td>\n",
       "      <td>0.0</td>\n",
       "      <td>Los Angeles Clippers</td>\n",
       "      <td>1</td>\n",
       "      <td>16.0</td>\n",
       "      <td>0.552</td>\n",
       "      <td>0.536</td>\n",
       "      <td>0.0</td>\n",
       "    </tr>\n",
       "    <tr>\n",
       "      <th>20</th>\n",
       "      <th>2015-10-29</th>\n",
       "      <td>Atlanta Hawks</td>\n",
       "      <td>112.0</td>\n",
       "      <td>New York Knicks</td>\n",
       "      <td>101.0</td>\n",
       "      <td>1.0</td>\n",
       "      <td>0.0</td>\n",
       "      <td>Atlanta Hawks</td>\n",
       "      <td>0</td>\n",
       "      <td>-11.0</td>\n",
       "      <td>0.419</td>\n",
       "      <td>0.551</td>\n",
       "      <td>-1.0</td>\n",
       "    </tr>\n",
       "    <tr>\n",
       "      <th>21</th>\n",
       "      <th>2015-10-30</th>\n",
       "      <td>Charlotte Hornets</td>\n",
       "      <td>94.0</td>\n",
       "      <td>Atlanta Hawks</td>\n",
       "      <td>97.0</td>\n",
       "      <td>1.0</td>\n",
       "      <td>0.0</td>\n",
       "      <td>Atlanta Hawks</td>\n",
       "      <td>1</td>\n",
       "      <td>3.0</td>\n",
       "      <td>0.551</td>\n",
       "      <td>0.471</td>\n",
       "      <td>-1.0</td>\n",
       "    </tr>\n",
       "    <tr>\n",
       "      <th>22</th>\n",
       "      <th>2015-10-30</th>\n",
       "      <td>Toronto Raptors</td>\n",
       "      <td>113.0</td>\n",
       "      <td>Boston Celtics</td>\n",
       "      <td>103.0</td>\n",
       "      <td>1.0</td>\n",
       "      <td>1.0</td>\n",
       "      <td>Toronto Raptors</td>\n",
       "      <td>0</td>\n",
       "      <td>-10.0</td>\n",
       "      <td>0.490</td>\n",
       "      <td>0.517</td>\n",
       "      <td>0.0</td>\n",
       "    </tr>\n",
       "  </tbody>\n",
       "</table>\n",
       "</div>"
      ],
      "text/plain": [
       "                            away_team  away_points             home_team  \\\n",
       "game_id date                                                               \n",
       "18      2015-10-29  Memphis Grizzlies        112.0        Indiana Pacers   \n",
       "19      2015-10-29   Dallas Mavericks         88.0  Los Angeles Clippers   \n",
       "20      2015-10-29      Atlanta Hawks        112.0       New York Knicks   \n",
       "21      2015-10-30  Charlotte Hornets         94.0         Atlanta Hawks   \n",
       "22      2015-10-30    Toronto Raptors        113.0        Boston Celtics   \n",
       "\n",
       "                    home_points  away_rest  home_rest          winning_team  \\\n",
       "game_id date                                                                  \n",
       "18      2015-10-29        103.0        0.0        0.0     Memphis Grizzlies   \n",
       "19      2015-10-29        104.0        0.0        0.0  Los Angeles Clippers   \n",
       "20      2015-10-29        101.0        1.0        0.0         Atlanta Hawks   \n",
       "21      2015-10-30         97.0        1.0        0.0         Atlanta Hawks   \n",
       "22      2015-10-30        103.0        1.0        1.0       Toronto Raptors   \n",
       "\n",
       "                    home_win  point_spread  home_strength  away_strength  \\\n",
       "game_id date                                                               \n",
       "18      2015-10-29         0          -9.0          0.484          0.549   \n",
       "19      2015-10-29         1          16.0          0.552          0.536   \n",
       "20      2015-10-29         0         -11.0          0.419          0.551   \n",
       "21      2015-10-30         1           3.0          0.551          0.471   \n",
       "22      2015-10-30         0         -10.0          0.490          0.517   \n",
       "\n",
       "                    rest_spread  \n",
       "game_id date                     \n",
       "18      2015-10-29          0.0  \n",
       "19      2015-10-29          0.0  \n",
       "20      2015-10-29         -1.0  \n",
       "21      2015-10-30         -1.0  \n",
       "22      2015-10-30          0.0  "
      ]
     },
     "execution_count": 33,
     "metadata": {},
     "output_type": "execute_result"
    }
   ],
   "source": [
    "df.head()"
   ]
  },
  {
   "cell_type": "code",
   "execution_count": 34,
   "metadata": {},
   "outputs": [
    {
     "data": {
      "text/html": [
       "<table class=\"simpletable\">\n",
       "<caption>OLS Regression Results</caption>\n",
       "<tr>\n",
       "  <th>Dep. Variable:</th>      <td>point_spread</td>   <th>  R-squared:         </th> <td>   0.119</td>\n",
       "</tr>\n",
       "<tr>\n",
       "  <th>Model:</th>                   <td>OLS</td>       <th>  Adj. R-squared:    </th> <td>   0.117</td>\n",
       "</tr>\n",
       "<tr>\n",
       "  <th>Method:</th>             <td>Least Squares</td>  <th>  F-statistic:       </th> <td>   54.28</td>\n",
       "</tr>\n",
       "<tr>\n",
       "  <th>Date:</th>             <td>Sat, 01 Jul 2017</td> <th>  Prob (F-statistic):</th> <td>6.48e-33</td>\n",
       "</tr>\n",
       "<tr>\n",
       "  <th>Time:</th>                 <td>22:17:31</td>     <th>  Log-Likelihood:    </th> <td> -4783.6</td>\n",
       "</tr>\n",
       "<tr>\n",
       "  <th>No. Observations:</th>      <td>  1213</td>      <th>  AIC:               </th> <td>   9575.</td>\n",
       "</tr>\n",
       "<tr>\n",
       "  <th>Df Residuals:</th>          <td>  1209</td>      <th>  BIC:               </th> <td>   9596.</td>\n",
       "</tr>\n",
       "<tr>\n",
       "  <th>Df Model:</th>              <td>     3</td>      <th>                     </th>     <td> </td>   \n",
       "</tr>\n",
       "<tr>\n",
       "  <th>Covariance Type:</th>      <td>nonrobust</td>    <th>                     </th>     <td> </td>   \n",
       "</tr>\n",
       "</table>\n",
       "<table class=\"simpletable\">\n",
       "<tr>\n",
       "        <td></td>           <th>coef</th>     <th>std err</th>      <th>t</th>      <th>P>|t|</th>  <th>[0.025</th>    <th>0.975]</th>  \n",
       "</tr>\n",
       "<tr>\n",
       "  <th>Intercept</th>     <td>   -6.5106</td> <td>    6.147</td> <td>   -1.059</td> <td> 0.290</td> <td>  -18.571</td> <td>    5.550</td>\n",
       "</tr>\n",
       "<tr>\n",
       "  <th>rest_spread</th>   <td>    0.3939</td> <td>    0.341</td> <td>    1.155</td> <td> 0.248</td> <td>   -0.275</td> <td>    1.063</td>\n",
       "</tr>\n",
       "<tr>\n",
       "  <th>home_strength</th> <td>   85.5022</td> <td>    8.604</td> <td>    9.938</td> <td> 0.000</td> <td>   68.622</td> <td>  102.382</td>\n",
       "</tr>\n",
       "<tr>\n",
       "  <th>away_strength</th> <td>  -67.1119</td> <td>    8.617</td> <td>   -7.789</td> <td> 0.000</td> <td>  -84.017</td> <td>  -50.207</td>\n",
       "</tr>\n",
       "</table>\n",
       "<table class=\"simpletable\">\n",
       "<tr>\n",
       "  <th>Omnibus:</th>       <td> 6.326</td> <th>  Durbin-Watson:     </th> <td>   1.983</td>\n",
       "</tr>\n",
       "<tr>\n",
       "  <th>Prob(Omnibus):</th> <td> 0.042</td> <th>  Jarque-Bera (JB):  </th> <td>   7.183</td>\n",
       "</tr>\n",
       "<tr>\n",
       "  <th>Skew:</th>          <td> 0.093</td> <th>  Prob(JB):          </th> <td>  0.0276</td>\n",
       "</tr>\n",
       "<tr>\n",
       "  <th>Kurtosis:</th>      <td> 3.328</td> <th>  Cond. No.          </th> <td>    37.7</td>\n",
       "</tr>\n",
       "</table>"
      ],
      "text/plain": [
       "<class 'statsmodels.iolib.summary.Summary'>\n",
       "\"\"\"\n",
       "                            OLS Regression Results                            \n",
       "==============================================================================\n",
       "Dep. Variable:           point_spread   R-squared:                       0.119\n",
       "Model:                            OLS   Adj. R-squared:                  0.117\n",
       "Method:                 Least Squares   F-statistic:                     54.28\n",
       "Date:                Sat, 01 Jul 2017   Prob (F-statistic):           6.48e-33\n",
       "Time:                        22:17:31   Log-Likelihood:                -4783.6\n",
       "No. Observations:                1213   AIC:                             9575.\n",
       "Df Residuals:                    1209   BIC:                             9596.\n",
       "Df Model:                           3                                         \n",
       "Covariance Type:            nonrobust                                         \n",
       "=================================================================================\n",
       "                    coef    std err          t      P>|t|      [0.025      0.975]\n",
       "---------------------------------------------------------------------------------\n",
       "Intercept        -6.5106      6.147     -1.059      0.290     -18.571       5.550\n",
       "rest_spread       0.3939      0.341      1.155      0.248      -0.275       1.063\n",
       "home_strength    85.5022      8.604      9.938      0.000      68.622     102.382\n",
       "away_strength   -67.1119      8.617     -7.789      0.000     -84.017     -50.207\n",
       "==============================================================================\n",
       "Omnibus:                        6.326   Durbin-Watson:                   1.983\n",
       "Prob(Omnibus):                  0.042   Jarque-Bera (JB):                7.183\n",
       "Skew:                           0.093   Prob(JB):                       0.0276\n",
       "Kurtosis:                       3.328   Cond. No.                         37.7\n",
       "==============================================================================\n",
       "\n",
       "Warnings:\n",
       "[1] Standard Errors assume that the covariance matrix of the errors is correctly specified.\n",
       "\"\"\""
      ]
     },
     "execution_count": 34,
     "metadata": {},
     "output_type": "execute_result"
    }
   ],
   "source": [
    "mod = smf.ols('point_spread ~ rest_spread + home_strength + away_strength', data=df)\n",
    "res = mod.fit()\n",
    "res.summary()"
   ]
  },
  {
   "cell_type": "markdown",
   "metadata": {},
   "source": [
    "So an extra day of rest is worth between -.28 and 1.06 points. Not that impresssive."
   ]
  },
  {
   "cell_type": "markdown",
   "metadata": {},
   "source": [
    "## Road Trips"
   ]
  },
  {
   "cell_type": "markdown",
   "metadata": {},
   "source": [
    "Do teams on longer road trips perform less well?\n",
    "Basically, what is the probability of winning as a function of number of *consecutive* games on the road?\n",
    "\n",
    "We'll need to compute an `away_streak` variable that contains the number of consecutive away games.\n",
    "This will reset to 0 each time the team returns home.\n",
    "For example:\n",
    "\n",
    "home_away  | away_streak\n",
    "---------- | -----------\n",
    "H          | 0\n",
    "A          | 1\n",
    "A          | 2\n",
    "H          | 0\n",
    "A          | 1\n",
    "A          | 2\n",
    "A          | 3"
   ]
  },
  {
   "cell_type": "markdown",
   "metadata": {},
   "source": [
    "This will need to be done in the context of a `groupby`.\n",
    "When developing complicated groupby functions, I like to grab and individual group and prototype on that:"
   ]
  },
  {
   "cell_type": "code",
   "execution_count": 35,
   "metadata": {},
   "outputs": [
    {
     "data": {
      "text/plain": [
       "1231    home_team\n",
       "4       away_team\n",
       "24      away_team\n",
       "1269    home_team\n",
       "52      away_team\n",
       "Name: home_away, dtype: object"
      ]
     },
     "execution_count": 35,
     "metadata": {},
     "output_type": "execute_result"
    }
   ],
   "source": [
    "gr = tidy.groupby('team').home_away\n",
    "v = gr.get_group(\"Chicago Bulls\")  # Use `.get_group` to extract a single group\n",
    "v.head()"
   ]
  },
  {
   "cell_type": "markdown",
   "metadata": {},
   "source": [
    "This is an example of a computation that's difficult (though not impossible) to vectorize.\n",
    "The relative simplicity of the iterative solution (like the skeleton below) outweighs the performance cost.\n",
    "\n",
    "Fill in the ellipses (`...`) below."
   ]
  },
  {
   "cell_type": "code",
   "execution_count": 37,
   "metadata": {},
   "outputs": [
    {
     "name": "stderr",
     "output_type": "stream",
     "text": [
      "E\n",
      "======================================================================\n",
      "ERROR: test_compute_streaks (__main__.TestAwayStreak)\n",
      "----------------------------------------------------------------------\n",
      "Traceback (most recent call last):\n",
      "  File \"<ipython-input-37-46ec53f2abbe>\", line 25, in test_compute_streaks\n",
      "    result = compute_away_streaks(v).head(10)  # easier to check\n",
      "  File \"<ipython-input-37-46ec53f2abbe>\", line 15, in compute_away_streaks\n",
      "    streaks.append(streak)  # add to the container\n",
      "NameError: name 'streak' is not defined\n",
      "\n",
      "----------------------------------------------------------------------\n",
      "Ran 1 test in 0.002s\n",
      "\n",
      "FAILED (errors=1)\n"
     ]
    },
    {
     "data": {
      "text/plain": [
       "<unittest.runner.TextTestResult run=1 errors=1 failures=0>"
      ]
     },
     "execution_count": 37,
     "metadata": {},
     "output_type": "execute_result"
    }
   ],
   "source": [
    "import unittest\n",
    "import pandas.util.testing as tm\n",
    "\n",
    "\n",
    "def compute_away_streaks(v):\n",
    "    # streaks will contain one entry per game.\n",
    "    streaks = []\n",
    "    current_streak = 0\n",
    "\n",
    "    for row in v:\n",
    "        if row == 'away_team':\n",
    "            ...  # what happens here?\n",
    "        else:\n",
    "            current_streak = ...  # what should streak be here?\n",
    "        streaks.append(streak)  # add to the container\n",
    "\n",
    "    streaks = pd.Series(streaks, index=v.index)\n",
    "    return streaks\n",
    "\n",
    "\n",
    "class TestAwayStreak(unittest.TestCase):\n",
    "    maxDiff = None\n",
    "\n",
    "    def test_compute_streaks(self):\n",
    "        result = compute_away_streaks(v).head(10)  # easier to check\n",
    "        expected = pd.Series([0, 1, 2, 0, 1, 0, 0, 1, 0, 0],\n",
    "                             index=[1231, 4, 24, 1269, 52, 1299, 1315, 103, 1357, 1381])\n",
    "\n",
    "        tm.assert_series_equal(result, expected)\n",
    "\n",
    "suite = unittest.TestLoader().loadTestsFromModule(TestAwayStreak())\n",
    "unittest.TextTestRunner().run(suite)"
   ]
  },
  {
   "cell_type": "code",
   "execution_count": 39,
   "metadata": {
    "collapsed": true
   },
   "outputs": [],
   "source": [
    "%load solutions/tidy_05.py"
   ]
  },
  {
   "cell_type": "markdown",
   "metadata": {},
   "source": [
    "Now let's put `compute_away_streaks` to use. Before looking at the next cell, can you tell which `groupby` method we want to use? Recall that it can be\n",
    "\n",
    "- `.agg`: one output row per group\n",
    "- `.transform`: one output row per input row (same shape)\n",
    "- `.apply`: arbitrary output shape\n",
    "\n",
    "In this case it will be a `.transform`"
   ]
  },
  {
   "cell_type": "code",
   "execution_count": 40,
   "metadata": {},
   "outputs": [
    {
     "data": {
      "text/html": [
       "<div>\n",
       "<style>\n",
       "    .dataframe thead tr:only-child th {\n",
       "        text-align: right;\n",
       "    }\n",
       "\n",
       "    .dataframe thead th {\n",
       "        text-align: left;\n",
       "    }\n",
       "\n",
       "    .dataframe tbody tr th {\n",
       "        vertical-align: top;\n",
       "    }\n",
       "</style>\n",
       "<table border=\"1\" class=\"dataframe\">\n",
       "  <thead>\n",
       "    <tr style=\"text-align: right;\">\n",
       "      <th></th>\n",
       "      <th>game_id</th>\n",
       "      <th>date</th>\n",
       "      <th>home_away</th>\n",
       "      <th>team</th>\n",
       "      <th>rest</th>\n",
       "      <th>away_streak</th>\n",
       "    </tr>\n",
       "  </thead>\n",
       "  <tbody>\n",
       "    <tr>\n",
       "      <th>0</th>\n",
       "      <td>1</td>\n",
       "      <td>2015-10-27</td>\n",
       "      <td>away_team</td>\n",
       "      <td>Detroit Pistons</td>\n",
       "      <td>NaN</td>\n",
       "      <td>1</td>\n",
       "    </tr>\n",
       "    <tr>\n",
       "      <th>1230</th>\n",
       "      <td>1</td>\n",
       "      <td>2015-10-27</td>\n",
       "      <td>home_team</td>\n",
       "      <td>Atlanta Hawks</td>\n",
       "      <td>NaN</td>\n",
       "      <td>0</td>\n",
       "    </tr>\n",
       "    <tr>\n",
       "      <th>1</th>\n",
       "      <td>2</td>\n",
       "      <td>2015-10-27</td>\n",
       "      <td>away_team</td>\n",
       "      <td>Cleveland Cavaliers</td>\n",
       "      <td>NaN</td>\n",
       "      <td>1</td>\n",
       "    </tr>\n",
       "    <tr>\n",
       "      <th>1231</th>\n",
       "      <td>2</td>\n",
       "      <td>2015-10-27</td>\n",
       "      <td>home_team</td>\n",
       "      <td>Chicago Bulls</td>\n",
       "      <td>NaN</td>\n",
       "      <td>0</td>\n",
       "    </tr>\n",
       "    <tr>\n",
       "      <th>2</th>\n",
       "      <td>3</td>\n",
       "      <td>2015-10-27</td>\n",
       "      <td>away_team</td>\n",
       "      <td>New Orleans Pelicans</td>\n",
       "      <td>NaN</td>\n",
       "      <td>1</td>\n",
       "    </tr>\n",
       "  </tbody>\n",
       "</table>\n",
       "</div>"
      ],
      "text/plain": [
       "      game_id       date  home_away                  team  rest  away_streak\n",
       "0           1 2015-10-27  away_team       Detroit Pistons   NaN            1\n",
       "1230        1 2015-10-27  home_team         Atlanta Hawks   NaN            0\n",
       "1           2 2015-10-27  away_team   Cleveland Cavaliers   NaN            1\n",
       "1231        2 2015-10-27  home_team         Chicago Bulls   NaN            0\n",
       "2           3 2015-10-27  away_team  New Orleans Pelicans   NaN            1"
      ]
     },
     "execution_count": 40,
     "metadata": {},
     "output_type": "execute_result"
    }
   ],
   "source": [
    "streaks = tidy.groupby(\"team\").home_away.transform(compute_away_streaks).astype(int)\n",
    "tidy['away_streak'] = streaks\n",
    "tidy.head()"
   ]
  },
  {
   "cell_type": "markdown",
   "metadata": {},
   "source": [
    "We need that `.astype` since currently `.transform` always returns the same dtype as the input (`object` in this case). There's an open pull request to fix that."
   ]
  },
  {
   "cell_type": "code",
   "execution_count": 41,
   "metadata": {},
   "outputs": [
    {
     "data": {
      "image/png": "[encoded data removed]",
      "text/plain": [
       "<matplotlib.figure.Figure at 0x1140409e8>"
      ]
     },
     "metadata": {},
     "output_type": "display_data"
    }
   ],
   "source": [
    "streaks.value_counts().plot.bar(color='k', width=.9, rot=0)\n",
    "sns.despine();"
   ]
  },
  {
   "cell_type": "markdown",
   "metadata": {},
   "source": [
    "And let's go from `tidy` to our game-level data with another `pivot_table`"
   ]
  },
  {
   "cell_type": "code",
   "execution_count": 42,
   "metadata": {
    "collapsed": true
   },
   "outputs": [],
   "source": [
    "game_away_streak = (\n",
    "    pd.pivot_table(\n",
    "        tidy, values='away_streak', index=['game_id', 'date'],\n",
    "        columns='home_away'\n",
    "    ).rename(columns={'away_team': 'away_streak'}))['away_streak']\n",
    "df['game_away_streak'] = game_away_streak"
   ]
  },
  {
   "cell_type": "markdown",
   "metadata": {},
   "source": [
    "A quick sanity check, and it doesn't seem like there's much to the hypothesis:"
   ]
  },
  {
   "cell_type": "code",
   "execution_count": 43,
   "metadata": {},
   "outputs": [
    {
     "data": {
      "image/png": "[encoded data removed]",
      "text/plain": [
       "<matplotlib.figure.Figure at 0x1140c1630>"
      ]
     },
     "metadata": {},
     "output_type": "display_data"
    }
   ],
   "source": [
    "sns.barplot('game_away_streak', 'home_win', data=df);"
   ]
  },
  {
   "cell_type": "markdown",
   "metadata": {},
   "source": [
    "If teams actually performed worse the longer they were on the road, we'd expect gradually declining bars.\n",
    "Still, we can run the regression:"
   ]
  },
  {
   "cell_type": "code",
   "execution_count": 44,
   "metadata": {},
   "outputs": [
    {
     "data": {
      "text/html": [
       "<table class=\"simpletable\">\n",
       "<caption>OLS Regression Results</caption>\n",
       "<tr>\n",
       "  <th>Dep. Variable:</th>      <td>point_spread</td>   <th>  R-squared:         </th> <td>   0.120</td>\n",
       "</tr>\n",
       "<tr>\n",
       "  <th>Model:</th>                   <td>OLS</td>       <th>  Adj. R-squared:    </th> <td>   0.117</td>\n",
       "</tr>\n",
       "<tr>\n",
       "  <th>Method:</th>             <td>Least Squares</td>  <th>  F-statistic:       </th> <td>   40.99</td>\n",
       "</tr>\n",
       "<tr>\n",
       "  <th>Date:</th>             <td>Sat, 01 Jul 2017</td> <th>  Prob (F-statistic):</th> <td>3.01e-32</td>\n",
       "</tr>\n",
       "<tr>\n",
       "  <th>Time:</th>                 <td>22:18:18</td>     <th>  Log-Likelihood:    </th> <td> -4783.1</td>\n",
       "</tr>\n",
       "<tr>\n",
       "  <th>No. Observations:</th>      <td>  1213</td>      <th>  AIC:               </th> <td>   9576.</td>\n",
       "</tr>\n",
       "<tr>\n",
       "  <th>Df Residuals:</th>          <td>  1208</td>      <th>  BIC:               </th> <td>   9602.</td>\n",
       "</tr>\n",
       "<tr>\n",
       "  <th>Df Model:</th>              <td>     4</td>      <th>                     </th>     <td> </td>   \n",
       "</tr>\n",
       "<tr>\n",
       "  <th>Covariance Type:</th>      <td>nonrobust</td>    <th>                     </th>     <td> </td>   \n",
       "</tr>\n",
       "</table>\n",
       "<table class=\"simpletable\">\n",
       "<tr>\n",
       "          <td></td>            <th>coef</th>     <th>std err</th>      <th>t</th>      <th>P>|t|</th>  <th>[0.025</th>    <th>0.975]</th>  \n",
       "</tr>\n",
       "<tr>\n",
       "  <th>Intercept</th>        <td>   -7.0447</td> <td>    6.168</td> <td>   -1.142</td> <td> 0.254</td> <td>  -19.146</td> <td>    5.056</td>\n",
       "</tr>\n",
       "<tr>\n",
       "  <th>rest_spread</th>      <td>    0.3825</td> <td>    0.341</td> <td>    1.121</td> <td> 0.262</td> <td>   -0.287</td> <td>    1.052</td>\n",
       "</tr>\n",
       "<tr>\n",
       "  <th>game_away_streak</th> <td>    0.2947</td> <td>    0.280</td> <td>    1.054</td> <td> 0.292</td> <td>   -0.254</td> <td>    0.843</td>\n",
       "</tr>\n",
       "<tr>\n",
       "  <th>home_strength</th>    <td>   85.5030</td> <td>    8.604</td> <td>    9.938</td> <td> 0.000</td> <td>   68.623</td> <td>  102.382</td>\n",
       "</tr>\n",
       "<tr>\n",
       "  <th>away_strength</th>    <td>  -67.2074</td> <td>    8.617</td> <td>   -7.800</td> <td> 0.000</td> <td>  -84.113</td> <td>  -50.302</td>\n",
       "</tr>\n",
       "</table>\n",
       "<table class=\"simpletable\">\n",
       "<tr>\n",
       "  <th>Omnibus:</th>       <td> 6.437</td> <th>  Durbin-Watson:     </th> <td>   1.982</td>\n",
       "</tr>\n",
       "<tr>\n",
       "  <th>Prob(Omnibus):</th> <td> 0.040</td> <th>  Jarque-Bera (JB):  </th> <td>   7.219</td>\n",
       "</tr>\n",
       "<tr>\n",
       "  <th>Skew:</th>          <td> 0.100</td> <th>  Prob(JB):          </th> <td>  0.0271</td>\n",
       "</tr>\n",
       "<tr>\n",
       "  <th>Kurtosis:</th>      <td> 3.320</td> <th>  Cond. No.          </th> <td>    76.9</td>\n",
       "</tr>\n",
       "</table>"
      ],
      "text/plain": [
       "<class 'statsmodels.iolib.summary.Summary'>\n",
       "\"\"\"\n",
       "                            OLS Regression Results                            \n",
       "==============================================================================\n",
       "Dep. Variable:           point_spread   R-squared:                       0.120\n",
       "Model:                            OLS   Adj. R-squared:                  0.117\n",
       "Method:                 Least Squares   F-statistic:                     40.99\n",
       "Date:                Sat, 01 Jul 2017   Prob (F-statistic):           3.01e-32\n",
       "Time:                        22:18:18   Log-Likelihood:                -4783.1\n",
       "No. Observations:                1213   AIC:                             9576.\n",
       "Df Residuals:                    1208   BIC:                             9602.\n",
       "Df Model:                           4                                         \n",
       "Covariance Type:            nonrobust                                         \n",
       "====================================================================================\n",
       "                       coef    std err          t      P>|t|      [0.025      0.975]\n",
       "------------------------------------------------------------------------------------\n",
       "Intercept           -7.0447      6.168     -1.142      0.254     -19.146       5.056\n",
       "rest_spread          0.3825      0.341      1.121      0.262      -0.287       1.052\n",
       "game_away_streak     0.2947      0.280      1.054      0.292      -0.254       0.843\n",
       "home_strength       85.5030      8.604      9.938      0.000      68.623     102.382\n",
       "away_strength      -67.2074      8.617     -7.800      0.000     -84.113     -50.302\n",
       "==============================================================================\n",
       "Omnibus:                        6.437   Durbin-Watson:                   1.982\n",
       "Prob(Omnibus):                  0.040   Jarque-Bera (JB):                7.219\n",
       "Skew:                           0.100   Prob(JB):                       0.0271\n",
       "Kurtosis:                       3.320   Cond. No.                         76.9\n",
       "==============================================================================\n",
       "\n",
       "Warnings:\n",
       "[1] Standard Errors assume that the covariance matrix of the errors is correctly specified.\n",
       "\"\"\""
      ]
     },
     "execution_count": 44,
     "metadata": {},
     "output_type": "execute_result"
    }
   ],
   "source": [
    "m = smf.ols(\"point_spread ~ rest_spread + game_away_streak + home_strength + away_strength\", df)\n",
    "res = m.fit()\n",
    "res.summary()"
   ]
  },
  {
   "cell_type": "markdown",
   "metadata": {},
   "source": [
    "Again, there doesn't seem to be much to the \"away streak\" hypothesis. The upper bound of the 95% CI is less than 1 point for each additional consecutive game on the road."
   ]
  },
  {
   "cell_type": "markdown",
   "metadata": {
    "collapsed": true
   },
   "source": [
    "## Recap\n",
    "\n",
    "- Tidy data:\n",
    "    - one variable per column\n",
    "    - one row per observation\n",
    "- Methods:\n",
    "    - melt / stack: wide to long\n",
    "    - pivot_table / unstack: long to wide"
   ]
  }
 ],
 "metadata": {
  "kernelspec": {
   "display_name": "Python 3",
   "language": "python",
   "name": "python3"
  },
  "language_info": {
   "codemirror_mode": {
    "name": "ipython",
    "version": 3
   },
   "file_extension": ".py",
   "mimetype": "text/x-python",
   "name": "python",
   "nbconvert_exporter": "python",
   "pygments_lexer": "ipython3",
   "version": "3.6.1"
  }
 },
 "nbformat": 4,
 "nbformat_minor": 1
}
