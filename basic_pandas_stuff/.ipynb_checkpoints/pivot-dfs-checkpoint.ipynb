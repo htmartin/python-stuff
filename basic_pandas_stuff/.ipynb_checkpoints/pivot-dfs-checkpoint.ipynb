{
 "cells": [
  {
   "cell_type": "code",
   "execution_count": 1,
   "metadata": {},
   "outputs": [],
   "source": [
    "import pandas as pd \n",
    "import numpy as np\n",
    "%matplotlib inline\n",
    "#https://stackoverflow.com/questions/22798934/pandas-long-to-wide-reshape"
   ]
  },
  {
   "cell_type": "code",
   "execution_count": 2,
   "metadata": {},
   "outputs": [],
   "source": [
    "#on fwf# \n",
    "user_topic_grouped=pd.read_csv('/tmartin/taylor-oreilly/tmp/usage-agg-grouped.csv')\n",
    "#on elias# user_topic_grouped=pd.read_csv('/tmartin/data/tmp/usage-agg-grouped.csv')"
   ]
  },
  {
   "cell_type": "code",
   "execution_count": 3,
   "metadata": {},
   "outputs": [],
   "source": [
    "basic=user_topic_grouped.head(20)"
   ]
  },
  {
   "cell_type": "code",
   "execution_count": 4,
   "metadata": {},
   "outputs": [
    {
     "data": {
      "text/html": [
       "<div>\n",
       "<style scoped>\n",
       "    .dataframe tbody tr th:only-of-type {\n",
       "        vertical-align: middle;\n",
       "    }\n",
       "\n",
       "    .dataframe tbody tr th {\n",
       "        vertical-align: top;\n",
       "    }\n",
       "\n",
       "    .dataframe thead th {\n",
       "        text-align: right;\n",
       "    }\n",
       "</style>\n",
       "<table border=\"1\" class=\"dataframe\">\n",
       "  <thead>\n",
       "    <tr style=\"text-align: right;\">\n",
       "      <th></th>\n",
       "      <th>salesforce_id</th>\n",
       "      <th>month</th>\n",
       "      <th>usage</th>\n",
       "      <th>visits</th>\n",
       "    </tr>\n",
       "  </thead>\n",
       "  <tbody>\n",
       "    <tr>\n",
       "      <th>0</th>\n",
       "      <td>001o000000tOEUtAAO</td>\n",
       "      <td>4</td>\n",
       "      <td>413.390443</td>\n",
       "      <td>24</td>\n",
       "    </tr>\n",
       "    <tr>\n",
       "      <th>1</th>\n",
       "      <td>0011N00001BKtvHQAT</td>\n",
       "      <td>12</td>\n",
       "      <td>149.450254</td>\n",
       "      <td>8</td>\n",
       "    </tr>\n",
       "    <tr>\n",
       "      <th>2</th>\n",
       "      <td>003o0000019wJNjAAM</td>\n",
       "      <td>12</td>\n",
       "      <td>255.727520</td>\n",
       "      <td>4</td>\n",
       "    </tr>\n",
       "    <tr>\n",
       "      <th>3</th>\n",
       "      <td>0011N000019tmOsQAI</td>\n",
       "      <td>10</td>\n",
       "      <td>96.865496</td>\n",
       "      <td>1</td>\n",
       "    </tr>\n",
       "    <tr>\n",
       "      <th>4</th>\n",
       "      <td>0011N000018sodqQAA</td>\n",
       "      <td>8</td>\n",
       "      <td>11.786058</td>\n",
       "      <td>1</td>\n",
       "    </tr>\n",
       "  </tbody>\n",
       "</table>\n",
       "</div>"
      ],
      "text/plain": [
       "        salesforce_id  month       usage  visits\n",
       "0  001o000000tOEUtAAO      4  413.390443      24\n",
       "1  0011N00001BKtvHQAT     12  149.450254       8\n",
       "2  003o0000019wJNjAAM     12  255.727520       4\n",
       "3  0011N000019tmOsQAI     10   96.865496       1\n",
       "4  0011N000018sodqQAA      8   11.786058       1"
      ]
     },
     "execution_count": 4,
     "metadata": {},
     "output_type": "execute_result"
    }
   ],
   "source": [
    "basic.head() "
   ]
  },
  {
   "cell_type": "code",
   "execution_count": 5,
   "metadata": {},
   "outputs": [
    {
     "data": {
      "text/plain": [
       "(20, 3)"
      ]
     },
     "execution_count": 5,
     "metadata": {},
     "output_type": "execute_result"
    }
   ],
   "source": [
    "usage=basic.drop('visits', axis=1)\n",
    "usage.shape"
   ]
  },
  {
   "cell_type": "code",
   "execution_count": 6,
   "metadata": {},
   "outputs": [
    {
     "data": {
      "text/plain": [
       "(20, 3)"
      ]
     },
     "execution_count": 6,
     "metadata": {},
     "output_type": "execute_result"
    }
   ],
   "source": [
    "visits=basic.drop('usage', axis=1)\n",
    "visits.shape"
   ]
  },
  {
   "cell_type": "code",
   "execution_count": 7,
   "metadata": {},
   "outputs": [],
   "source": [
    "pivot_usage = usage.pivot_table(index='salesforce_id', columns='month', values='usage')\\\n",
    "                   .reset_index()\n",
    "\n",
    "#YES#pivot_usage=pd.pivot_table(usage, values=['usage'],index='salesforce_id',columns='month').reset_index()\n",
    "\n",
    "#NO# pivot_usage.pivot(index='salesforce_id',columns='month')[['usage']]\n"
   ]
  },
  {
   "cell_type": "code",
   "execution_count": 8,
   "metadata": {},
   "outputs": [
    {
     "data": {
      "text/html": [
       "<div>\n",
       "<style scoped>\n",
       "    .dataframe tbody tr th:only-of-type {\n",
       "        vertical-align: middle;\n",
       "    }\n",
       "\n",
       "    .dataframe tbody tr th {\n",
       "        vertical-align: top;\n",
       "    }\n",
       "\n",
       "    .dataframe thead th {\n",
       "        text-align: right;\n",
       "    }\n",
       "</style>\n",
       "<table border=\"1\" class=\"dataframe\">\n",
       "  <thead>\n",
       "    <tr style=\"text-align: right;\">\n",
       "      <th>month</th>\n",
       "      <th>salesforce_id</th>\n",
       "      <th>1</th>\n",
       "      <th>2</th>\n",
       "      <th>3</th>\n",
       "      <th>4</th>\n",
       "      <th>7</th>\n",
       "      <th>8</th>\n",
       "      <th>9</th>\n",
       "      <th>10</th>\n",
       "      <th>11</th>\n",
       "      <th>12</th>\n",
       "    </tr>\n",
       "  </thead>\n",
       "  <tbody>\n",
       "    <tr>\n",
       "      <th>1</th>\n",
       "      <td>0011N000018sodqQAA</td>\n",
       "      <td>NaN</td>\n",
       "      <td>NaN</td>\n",
       "      <td>NaN</td>\n",
       "      <td>NaN</td>\n",
       "      <td>NaN</td>\n",
       "      <td>11.786058</td>\n",
       "      <td>NaN</td>\n",
       "      <td>NaN</td>\n",
       "      <td>NaN</td>\n",
       "      <td>NaN</td>\n",
       "    </tr>\n",
       "  </tbody>\n",
       "</table>\n",
       "</div>"
      ],
      "text/plain": [
       "month       salesforce_id   1   2   3   4   7          8   9  10  11  12\n",
       "1      0011N000018sodqQAA NaN NaN NaN NaN NaN  11.786058 NaN NaN NaN NaN"
      ]
     },
     "execution_count": 8,
     "metadata": {},
     "output_type": "execute_result"
    }
   ],
   "source": [
    "pivot_usage[pivot_usage.salesforce_id=='0011N000018sodqQAA']"
   ]
  },
  {
   "cell_type": "code",
   "execution_count": 9,
   "metadata": {},
   "outputs": [],
   "source": [
    "#pivot_usage['salesforce_id']\n",
    "#gives series with each value of sfid\n",
    "#NO# pivot_usage['month']\n",
    "#was trying to get series with each value of column '1', (&/or column month or month == '1'), but get 'KeyError: '1' or same error for 'month'"
   ]
  },
  {
   "cell_type": "code",
   "execution_count": 10,
   "metadata": {},
   "outputs": [],
   "source": [
    "pivot_usage = pivot_usage.rename(columns={1: 'usage_0117', 2: \"usage_0217\",\n",
    "                                        3: \"usage_0317\", 4: \"usage_0417\",\n",
    "                                        5: 'usage_0517', 6: \"usage_0617\",\n",
    "                                        7: 'usage_0717', 8: \"usage_0817\",\n",
    "                                        9: 'usage_0917', 10: \"usage_1017\",\n",
    "                                        11: 'usage_1117', 12: \"usage_1217\"})"
   ]
  },
  {
   "cell_type": "code",
   "execution_count": 11,
   "metadata": {},
   "outputs": [
    {
     "data": {
      "text/html": [
       "<div>\n",
       "<style scoped>\n",
       "    .dataframe tbody tr th:only-of-type {\n",
       "        vertical-align: middle;\n",
       "    }\n",
       "\n",
       "    .dataframe tbody tr th {\n",
       "        vertical-align: top;\n",
       "    }\n",
       "\n",
       "    .dataframe thead th {\n",
       "        text-align: right;\n",
       "    }\n",
       "</style>\n",
       "<table border=\"1\" class=\"dataframe\">\n",
       "  <thead>\n",
       "    <tr style=\"text-align: right;\">\n",
       "      <th>month</th>\n",
       "      <th>salesforce_id</th>\n",
       "      <th>usage_0117</th>\n",
       "      <th>usage_0217</th>\n",
       "      <th>usage_0317</th>\n",
       "      <th>usage_0417</th>\n",
       "      <th>usage_0717</th>\n",
       "      <th>usage_0817</th>\n",
       "      <th>usage_0917</th>\n",
       "      <th>usage_1017</th>\n",
       "      <th>usage_1117</th>\n",
       "      <th>usage_1217</th>\n",
       "    </tr>\n",
       "  </thead>\n",
       "  <tbody>\n",
       "    <tr>\n",
       "      <th>0</th>\n",
       "      <td>0011N000018sTJbQAM</td>\n",
       "      <td>NaN</td>\n",
       "      <td>NaN</td>\n",
       "      <td>NaN</td>\n",
       "      <td>NaN</td>\n",
       "      <td>31.030435</td>\n",
       "      <td>NaN</td>\n",
       "      <td>NaN</td>\n",
       "      <td>NaN</td>\n",
       "      <td>NaN</td>\n",
       "      <td>NaN</td>\n",
       "    </tr>\n",
       "    <tr>\n",
       "      <th>1</th>\n",
       "      <td>0011N000018sodqQAA</td>\n",
       "      <td>NaN</td>\n",
       "      <td>NaN</td>\n",
       "      <td>NaN</td>\n",
       "      <td>NaN</td>\n",
       "      <td>NaN</td>\n",
       "      <td>11.786058</td>\n",
       "      <td>NaN</td>\n",
       "      <td>NaN</td>\n",
       "      <td>NaN</td>\n",
       "      <td>NaN</td>\n",
       "    </tr>\n",
       "    <tr>\n",
       "      <th>2</th>\n",
       "      <td>0011N000018uYxdQAE</td>\n",
       "      <td>NaN</td>\n",
       "      <td>NaN</td>\n",
       "      <td>NaN</td>\n",
       "      <td>NaN</td>\n",
       "      <td>NaN</td>\n",
       "      <td>25.413189</td>\n",
       "      <td>NaN</td>\n",
       "      <td>NaN</td>\n",
       "      <td>NaN</td>\n",
       "      <td>NaN</td>\n",
       "    </tr>\n",
       "    <tr>\n",
       "      <th>3</th>\n",
       "      <td>0011N000019dMKBQA2</td>\n",
       "      <td>NaN</td>\n",
       "      <td>NaN</td>\n",
       "      <td>NaN</td>\n",
       "      <td>NaN</td>\n",
       "      <td>NaN</td>\n",
       "      <td>NaN</td>\n",
       "      <td>NaN</td>\n",
       "      <td>12.735256</td>\n",
       "      <td>NaN</td>\n",
       "      <td>NaN</td>\n",
       "    </tr>\n",
       "    <tr>\n",
       "      <th>4</th>\n",
       "      <td>0011N000019tmOsQAI</td>\n",
       "      <td>NaN</td>\n",
       "      <td>NaN</td>\n",
       "      <td>NaN</td>\n",
       "      <td>NaN</td>\n",
       "      <td>NaN</td>\n",
       "      <td>NaN</td>\n",
       "      <td>NaN</td>\n",
       "      <td>96.865496</td>\n",
       "      <td>NaN</td>\n",
       "      <td>NaN</td>\n",
       "    </tr>\n",
       "  </tbody>\n",
       "</table>\n",
       "</div>"
      ],
      "text/plain": [
       "month       salesforce_id  usage_0117  usage_0217  usage_0317  usage_0417  \\\n",
       "0      0011N000018sTJbQAM         NaN         NaN         NaN         NaN   \n",
       "1      0011N000018sodqQAA         NaN         NaN         NaN         NaN   \n",
       "2      0011N000018uYxdQAE         NaN         NaN         NaN         NaN   \n",
       "3      0011N000019dMKBQA2         NaN         NaN         NaN         NaN   \n",
       "4      0011N000019tmOsQAI         NaN         NaN         NaN         NaN   \n",
       "\n",
       "month  usage_0717  usage_0817  usage_0917  usage_1017  usage_1117  usage_1217  \n",
       "0       31.030435         NaN         NaN         NaN         NaN         NaN  \n",
       "1             NaN   11.786058         NaN         NaN         NaN         NaN  \n",
       "2             NaN   25.413189         NaN         NaN         NaN         NaN  \n",
       "3             NaN         NaN         NaN   12.735256         NaN         NaN  \n",
       "4             NaN         NaN         NaN   96.865496         NaN         NaN  "
      ]
     },
     "execution_count": 11,
     "metadata": {},
     "output_type": "execute_result"
    }
   ],
   "source": [
    "pivot_usage.head()"
   ]
  },
  {
   "cell_type": "code",
   "execution_count": 12,
   "metadata": {},
   "outputs": [],
   "source": [
    "pivot_usage = pivot_usage.fillna(0)"
   ]
  },
  {
   "cell_type": "code",
   "execution_count": 16,
   "metadata": {},
   "outputs": [
    {
     "data": {
      "text/html": [
       "<div>\n",
       "<style scoped>\n",
       "    .dataframe tbody tr th:only-of-type {\n",
       "        vertical-align: middle;\n",
       "    }\n",
       "\n",
       "    .dataframe tbody tr th {\n",
       "        vertical-align: top;\n",
       "    }\n",
       "\n",
       "    .dataframe thead th {\n",
       "        text-align: right;\n",
       "    }\n",
       "</style>\n",
       "<table border=\"1\" class=\"dataframe\">\n",
       "  <thead>\n",
       "    <tr style=\"text-align: right;\">\n",
       "      <th>month</th>\n",
       "      <th>salesforce_id</th>\n",
       "      <th>usage_0117</th>\n",
       "      <th>usage_0217</th>\n",
       "      <th>usage_0317</th>\n",
       "      <th>usage_0417</th>\n",
       "      <th>usage_0717</th>\n",
       "      <th>usage_0817</th>\n",
       "      <th>usage_0917</th>\n",
       "      <th>usage_1017</th>\n",
       "      <th>usage_1117</th>\n",
       "      <th>usage_1217</th>\n",
       "    </tr>\n",
       "  </thead>\n",
       "  <tbody>\n",
       "    <tr>\n",
       "      <th>0</th>\n",
       "      <td>0011N000018sTJbQAM</td>\n",
       "      <td>0.0</td>\n",
       "      <td>0.0</td>\n",
       "      <td>0.0</td>\n",
       "      <td>0.0</td>\n",
       "      <td>31.030435</td>\n",
       "      <td>0.000000</td>\n",
       "      <td>0.0</td>\n",
       "      <td>0.000000</td>\n",
       "      <td>0.0</td>\n",
       "      <td>0.0</td>\n",
       "    </tr>\n",
       "    <tr>\n",
       "      <th>1</th>\n",
       "      <td>0011N000018sodqQAA</td>\n",
       "      <td>0.0</td>\n",
       "      <td>0.0</td>\n",
       "      <td>0.0</td>\n",
       "      <td>0.0</td>\n",
       "      <td>0.000000</td>\n",
       "      <td>11.786058</td>\n",
       "      <td>0.0</td>\n",
       "      <td>0.000000</td>\n",
       "      <td>0.0</td>\n",
       "      <td>0.0</td>\n",
       "    </tr>\n",
       "    <tr>\n",
       "      <th>2</th>\n",
       "      <td>0011N000018uYxdQAE</td>\n",
       "      <td>0.0</td>\n",
       "      <td>0.0</td>\n",
       "      <td>0.0</td>\n",
       "      <td>0.0</td>\n",
       "      <td>0.000000</td>\n",
       "      <td>25.413189</td>\n",
       "      <td>0.0</td>\n",
       "      <td>0.000000</td>\n",
       "      <td>0.0</td>\n",
       "      <td>0.0</td>\n",
       "    </tr>\n",
       "    <tr>\n",
       "      <th>3</th>\n",
       "      <td>0011N000019dMKBQA2</td>\n",
       "      <td>0.0</td>\n",
       "      <td>0.0</td>\n",
       "      <td>0.0</td>\n",
       "      <td>0.0</td>\n",
       "      <td>0.000000</td>\n",
       "      <td>0.000000</td>\n",
       "      <td>0.0</td>\n",
       "      <td>12.735256</td>\n",
       "      <td>0.0</td>\n",
       "      <td>0.0</td>\n",
       "    </tr>\n",
       "    <tr>\n",
       "      <th>4</th>\n",
       "      <td>0011N000019tmOsQAI</td>\n",
       "      <td>0.0</td>\n",
       "      <td>0.0</td>\n",
       "      <td>0.0</td>\n",
       "      <td>0.0</td>\n",
       "      <td>0.000000</td>\n",
       "      <td>0.000000</td>\n",
       "      <td>0.0</td>\n",
       "      <td>96.865496</td>\n",
       "      <td>0.0</td>\n",
       "      <td>0.0</td>\n",
       "    </tr>\n",
       "  </tbody>\n",
       "</table>\n",
       "</div>"
      ],
      "text/plain": [
       "month       salesforce_id  usage_0117  usage_0217  usage_0317  usage_0417  \\\n",
       "0      0011N000018sTJbQAM         0.0         0.0         0.0         0.0   \n",
       "1      0011N000018sodqQAA         0.0         0.0         0.0         0.0   \n",
       "2      0011N000018uYxdQAE         0.0         0.0         0.0         0.0   \n",
       "3      0011N000019dMKBQA2         0.0         0.0         0.0         0.0   \n",
       "4      0011N000019tmOsQAI         0.0         0.0         0.0         0.0   \n",
       "\n",
       "month  usage_0717  usage_0817  usage_0917  usage_1017  usage_1117  usage_1217  \n",
       "0       31.030435    0.000000         0.0    0.000000         0.0         0.0  \n",
       "1        0.000000   11.786058         0.0    0.000000         0.0         0.0  \n",
       "2        0.000000   25.413189         0.0    0.000000         0.0         0.0  \n",
       "3        0.000000    0.000000         0.0   12.735256         0.0         0.0  \n",
       "4        0.000000    0.000000         0.0   96.865496         0.0         0.0  "
      ]
     },
     "execution_count": 16,
     "metadata": {},
     "output_type": "execute_result"
    }
   ],
   "source": [
    "#pivot_usage.reset_index()\n",
    "pivot_usage.head()"
   ]
  },
  {
   "cell_type": "markdown",
   "metadata": {},
   "source": [
    "### Visits"
   ]
  },
  {
   "cell_type": "code",
   "execution_count": 14,
   "metadata": {},
   "outputs": [],
   "source": [
    "pivot_visits = visits.pivot_table(index='salesforce_id', columns='month', values='visits')\\\n",
    "                   .reset_index()"
   ]
  },
  {
   "cell_type": "code",
   "execution_count": null,
   "metadata": {},
   "outputs": [],
   "source": []
  },
  {
   "cell_type": "code",
   "execution_count": 15,
   "metadata": {},
   "outputs": [],
   "source": [
    "#pivot=pd.pivot_table(user_topic_grouped, values=['usage','visits'],index='salesforce_id',columns='month').reset_index()"
   ]
  },
  {
   "cell_type": "code",
   "execution_count": null,
   "metadata": {},
   "outputs": [],
   "source": []
  }
 ],
 "metadata": {
  "kernelspec": {
   "display_name": "Python 3",
   "language": "python",
   "name": "python3"
  },
  "language_info": {
   "codemirror_mode": {
    "name": "ipython",
    "version": 3
   },
   "file_extension": ".py",
   "mimetype": "text/x-python",
   "name": "python",
   "nbconvert_exporter": "python",
   "pygments_lexer": "ipython3",
   "version": "3.5.2"
  }
 },
 "nbformat": 4,
 "nbformat_minor": 2
}
