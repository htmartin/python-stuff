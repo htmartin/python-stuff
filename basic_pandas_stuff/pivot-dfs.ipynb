{
 "cells": [
  {
   "cell_type": "markdown",
   "metadata": {},
   "source": [
    "Indicator       Country         Year   Value    \n",
    "1               Angola          2005    6\n",
    "2               Angola          2005    13\n",
    "3               Angola          2005    10\n",
    "4               Angola          2005    11\n",
    "5               Angola          2005    5\n",
    "1               Angola          2006    3\n",
    "2               Angola          2006    2\n",
    "3               Angola          2006    7\n",
    "4               Angola          2006    3\n",
    "5               Angola          2006    6"
   ]
  },
  {
   "cell_type": "code",
   "execution_count": null,
   "metadata": {},
   "outputs": [],
   "source": []
  }
 ],
 "metadata": {
  "kernelspec": {
   "display_name": "Python 3",
   "language": "python",
   "name": "python3"
  },
  "language_info": {
   "codemirror_mode": {
    "name": "ipython",
    "version": 3
   },
   "file_extension": ".py",
   "mimetype": "text/x-python",
   "name": "python",
   "nbconvert_exporter": "python",
   "pygments_lexer": "ipython3",
   "version": "3.5.2"
  }
 },
 "nbformat": 4,
 "nbformat_minor": 2
}
